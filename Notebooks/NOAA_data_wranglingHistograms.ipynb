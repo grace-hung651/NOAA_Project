{
 "cells": [
  {
   "cell_type": "markdown",
   "metadata": {},
   "source": [
    "# NOAA Data wrangling<a id='NOAA_Data_wrangling'></a>"
   ]
  },
  {
   "cell_type": "markdown",
   "metadata": {},
   "source": [
    "## 1.1 Contents<a id='1.1_Contents'></a> \n",
    "\n",
    "\n",
    "* [1 Data wrangling](#1_Data_wrangling)\n",
    "  * [1.1 Contents](#1.1_Contents)\n",
    "  * [1.2 Introduction](#1.2_Introduction)\n",
    "    * [1.2.1 Recap Of Data Science Problem](#1.2.1_Recap_Of_Data_Science_Problem)\n",
    "    * [1.2.2 Data Wrangling Steps](#1.2.2_Data_Wrangling_Steps)\n",
    "  * [1.3 Imports](#1.3_Imports)\n",
    "  * [1.4 Objectives](#1.4_Objectives)\n",
    "  * [1.5 Load Applicable Data](#1.5_Load_Applicable_Data)\n",
    "  * [1.6 Data Definition](#1.6_Data_Definition)\n",
    " "
   ]
  },
  {
   "cell_type": "markdown",
   "metadata": {},
   "source": [
    "## 1.2 Introduction<a id='1.2_Introduction'></a>"
   ]
  },
  {
   "cell_type": "markdown",
   "metadata": {},
   "source": [
    "This step focuses on collecting your data, organizing it, and making sure it's well defined. Paying attention to these tasks will pay off greatly later on. Some data cleaning can be done at this stage, but it's important not to be overzealous in your cleaning before you've explored the data to better understand it."
   ]
  },
  {
   "cell_type": "markdown",
   "metadata": {},
   "source": [
    "### 1.2.1 Recap Of Data Science Problem<a id='1.2.1_Recap_Of_Data_Science_Problem'></a>"
   ]
  },
  {
   "cell_type": "markdown",
   "metadata": {},
   "source": [
    "The purpose of this data science project is to use machine learning to classify false solar detection as the National Oceanic and Atmospheric Administration (NOAA) is keen to differentiate actual lightening flashes from sun reflections"
   ]
  },
  {
   "cell_type": "markdown",
   "metadata": {},
   "source": [
    "### 1.2.2 Data Wrangling Steps <a id='1.2.2_Data_Wrangling_Steps'></a>"
   ]
  },
  {
   "cell_type": "markdown",
   "metadata": {},
   "source": [
    "* Data Collection: \n",
    "    * including data loading, joining, etc\n",
    "\n",
    "* Data Organization: GitHub file structure (see cookie cutter data science template)\n",
    "\n",
    "* Data Definition: gain understanding of data features\n",
    "\n",
    "* Data Cleaning: NA or missing values, duplicates"
   ]
  },
  {
   "cell_type": "markdown",
   "metadata": {},
   "source": [
    "## 1.3 Imports<a id='1.3_Imports'></a>"
   ]
  },
  {
   "cell_type": "code",
   "execution_count": 1,
   "metadata": {},
   "outputs": [],
   "source": [
    "\n",
    "#Import applicable libraries and modules.  \n",
    "# Note from base anaconda environment: needed to install cartopy, metpy and netcdf4 packages\n",
    "import os \n",
    "import pandas as pd\n",
    "import numpy as np\n",
    "\n",
    "import xarray as xr\n",
    "import matplotlib.pyplot as plt\n",
    "import seaborn as sns\n",
    "\n",
    "# from library.sb_utils import save_file \n",
    "# import netcdf4 as nc\n",
    "# ModuleNotFoundError: No module named 'netcdf4'\n",
    "\n"
   ]
  },
  {
   "cell_type": "markdown",
   "metadata": {},
   "source": [
    "## 1.4 Objectives<a id='1.4_Objectives'></a>"
   ]
  },
  {
   "cell_type": "markdown",
   "metadata": {},
   "source": [
    "**Figure out how to work with NC file types:**\n",
    "\n",
    "    * Standard format for binary geoscience data\n",
    "    * There is a NetCDF4 library available that reads NetCDF files into numpy arrays\n",
    "    * Have to install the netcdf binary applications to get it to work. Those are very useful - especially ncdump for seeing what’s in a file \n",
    "    \n",
    "Tutorial for netcdf data, reading netcdf portion is directly applicable: https://unidata.github.io/python-gallery/examples/mapping_GOES16_TrueColor.html     \n",
    " \n"
   ]
  },
  {
   "cell_type": "markdown",
   "metadata": {},
   "source": [
    "## 1.5 Load Applicable Data<a id='1.5_Load_Applicable_Data'></a>"
   ]
  },
  {
   "cell_type": "code",
   "execution_count": 2,
   "metadata": {},
   "outputs": [],
   "source": [
    "# Loading Geostationary Lightning Mapper (GLM) data files:\n",
    "# Open the 3 types of files with xarray.\n",
    "# The opened files are assigned to \"L\" for lightning, \"G\" for glint and \"B\" for both\n",
    "\n",
    "# Lightning\n",
    "FILEL = ('../GLM_Solar_Data_LA-UR_19-26659/rawdata/glm_lightning_db_final.nc')\n",
    "L = xr.open_dataset(FILEL)\n",
    "\n",
    "# Glint\n",
    "FILEG = ('../GLM_Solar_Data_LA-UR_19-26659/rawdata/glm_glint_db_final.nc')\n",
    "G = xr.open_dataset(FILEG)\n",
    "# Day Glint\n",
    "FILEGD = ('../GLM_Solar_Data_LA-UR_19-26659/rawdata/glm_dayglint_db_final.nc')\n",
    "GD = xr.open_dataset(FILEGD)\n",
    "# Night Glint\n",
    "FILEGN = ('../GLM_Solar_Data_LA-UR_19-26659/rawdata/glm_nightglint_db_final.nc')\n",
    "GN = xr.open_dataset(FILEGN)\n",
    "\n",
    "#Both on 3 separate days\n",
    "FILEB20180901 = ('../GLM_Solar_Data_LA-UR_19-26659/rawdata/glm_both_20180901.nc')\n",
    "B20180901 = xr.open_dataset(FILEB20180901)\n",
    "\n",
    "FILEB20180930 = ('../GLM_Solar_Data_LA-UR_19-26659/rawdata/glm_both_20180930.nc')\n",
    "B20180930 = xr.open_dataset(FILEB20180930)\n",
    "\n",
    "FILEB20181020 = ('../GLM_Solar_Data_LA-UR_19-26659/rawdata/glm_both_20181020.nc')\n",
    "B20181020 = xr.open_dataset(FILEB20181020)\n"
   ]
  },
  {
   "cell_type": "markdown",
   "metadata": {},
   "source": [
    "Geostationary Lightning Mapper (GLM)  is organized into 3 types of files:\n",
    "* glm_lightning_db_final.nc -> list of natural lightning cases. Days are chosen where solar contamination is not observed, so should be free of solar artifacts\n",
    "* glm_glint_db_final.nc -> list of confirmed solar contamination cases. Identified by continuous illumination in a single pixel. This filter is very good at detecting all types of glint, but has an unreasonably-high missed event rate\n",
    "    * NOTE: Files for daytime glint only and nighttime glint only also exist.\n",
    "* glm_both_20180901.nc -> a random sample of GLM data that contains both lightning and glint cases. Can be used for testing an independent sample of data\n",
    "    * NOTE: 2 other days – 9/30/2018 and 10/20/2018 – also exist.\n",
    "\n",
    "Good first steps in auditing the data are the info method and displaying the first few records with head.\n"
   ]
  },
  {
   "cell_type": "code",
   "execution_count": 3,
   "metadata": {},
   "outputs": [
    {
     "name": "stdout",
     "output_type": "stream",
     "text": [
      "xarray.Dataset {\n",
      "dimensions:\n",
      "\tFLASH_1SIG_GROUP_COUNT_x = 29999999 ;\n",
      "\tFLASH_1SIG_SERIES_COUNT_x = 29999999 ;\n",
      "\tFLASH_2SIG_GROUP_COUNT_x = 29999999 ;\n",
      "\tFLASH_2SIG_SERIES_COUNT_x = 29999999 ;\n",
      "\tFLASH_3SIG_GROUP_COUNT_x = 29999999 ;\n",
      "\tFLASH_3SIG_SERIES_COUNT_x = 29999999 ;\n",
      "\tFLASH_AREA_x = 29999999 ;\n",
      "\tFLASH_DURATION_x = 29999999 ;\n",
      "\tFLASH_ENERGY_x = 29999999 ;\n",
      "\tFLASH_EVENT_COUNT_x = 29999999 ;\n",
      "\tFLASH_EVENT_MAX_ENERGY_x = 29999999 ;\n",
      "\tFLASH_EVENT_MAX_SEPARATION_x = 29999999 ;\n",
      "\tFLASH_EVENT_MIN_ENERGY_x = 29999999 ;\n",
      "\tFLASH_GROUP_COUNT_x = 29999999 ;\n",
      "\tFLASH_GROUP_MAX_ENERGY_x = 29999999 ;\n",
      "\tFLASH_GROUP_MAX_SEPARATION_x = 29999999 ;\n",
      "\tFLASH_GROUP_MEAN_ENERGY_x = 29999999 ;\n",
      "\tFLASH_GROUP_MIN_ENERGY_x = 29999999 ;\n",
      "\tFLASH_GROUP_TOTAL_SEPARATION_x = 29999999 ;\n",
      "\tFLASH_ID_x = 29999999 ;\n",
      "\tFLASH_LAT_x = 29999999 ;\n",
      "\tFLASH_LCFA_CDATE_x = 29999999 ;\n",
      "\tFLASH_LCFA_TSTAMP_x = 29999999 ;\n",
      "\tFLASH_LON_x = 29999999 ;\n",
      "\tFLASH_SERIES_COUNT_x = 29999999 ;\n",
      "\tFLASH_TIME_OFFSET_OF_FIRST_EVENT_x = 29999999 ;\n",
      "\tFLASH_TIME_OFFSET_OF_LAST_EVENT_x = 29999999 ;\n",
      "\n",
      "variables:\n",
      "\tint32 FLASH_ID(FLASH_ID_x) ;\n",
      "\tint32 FLASH_LCFA_CDATE(FLASH_LCFA_CDATE_x) ;\n",
      "\tint32 FLASH_LCFA_TSTAMP(FLASH_LCFA_TSTAMP_x) ;\n",
      "\tfloat32 FLASH_TIME_OFFSET_OF_FIRST_EVENT(FLASH_TIME_OFFSET_OF_FIRST_EVENT_x) ;\n",
      "\tfloat32 FLASH_TIME_OFFSET_OF_LAST_EVENT(FLASH_TIME_OFFSET_OF_LAST_EVENT_x) ;\n",
      "\tfloat32 FLASH_LAT(FLASH_LAT_x) ;\n",
      "\tfloat32 FLASH_LON(FLASH_LON_x) ;\n",
      "\tfloat32 FLASH_AREA(FLASH_AREA_x) ;\n",
      "\tfloat32 FLASH_ENERGY(FLASH_ENERGY_x) ;\n",
      "\tint32 FLASH_GROUP_COUNT(FLASH_GROUP_COUNT_x) ;\n",
      "\tint32 FLASH_SERIES_COUNT(FLASH_SERIES_COUNT_x) ;\n",
      "\tint32 FLASH_EVENT_COUNT(FLASH_EVENT_COUNT_x) ;\n",
      "\tfloat32 FLASH_DURATION(FLASH_DURATION_x) ;\n",
      "\tfloat32 FLASH_GROUP_MAX_SEPARATION(FLASH_GROUP_MAX_SEPARATION_x) ;\n",
      "\tfloat32 FLASH_GROUP_TOTAL_SEPARATION(FLASH_GROUP_TOTAL_SEPARATION_x) ;\n",
      "\tfloat32 FLASH_EVENT_MAX_SEPARATION(FLASH_EVENT_MAX_SEPARATION_x) ;\n",
      "\tint32 FLASH_1SIG_GROUP_COUNT(FLASH_1SIG_GROUP_COUNT_x) ;\n",
      "\tint32 FLASH_2SIG_GROUP_COUNT(FLASH_2SIG_GROUP_COUNT_x) ;\n",
      "\tint32 FLASH_3SIG_GROUP_COUNT(FLASH_3SIG_GROUP_COUNT_x) ;\n",
      "\tint32 FLASH_1SIG_SERIES_COUNT(FLASH_1SIG_SERIES_COUNT_x) ;\n",
      "\tint32 FLASH_2SIG_SERIES_COUNT(FLASH_2SIG_SERIES_COUNT_x) ;\n",
      "\tint32 FLASH_3SIG_SERIES_COUNT(FLASH_3SIG_SERIES_COUNT_x) ;\n",
      "\tfloat32 FLASH_EVENT_MAX_ENERGY(FLASH_EVENT_MAX_ENERGY_x) ;\n",
      "\tfloat32 FLASH_EVENT_MIN_ENERGY(FLASH_EVENT_MIN_ENERGY_x) ;\n",
      "\tfloat32 FLASH_GROUP_MAX_ENERGY(FLASH_GROUP_MAX_ENERGY_x) ;\n",
      "\tfloat32 FLASH_GROUP_MEAN_ENERGY(FLASH_GROUP_MEAN_ENERGY_x) ;\n",
      "\tfloat32 FLASH_GROUP_MIN_ENERGY(FLASH_GROUP_MIN_ENERGY_x) ;\n",
      "\n",
      "// global attributes:\n",
      "}"
     ]
    }
   ],
   "source": [
    "#Exploring Data with Info Method#\n",
    "#Call the info method on L to see a summary of the data\n",
    "\n",
    "# L.info()\n",
    "\n",
    "# G.info()\n",
    "# GD.info()\n",
    "# GN.info()\n",
    "\n",
    "# B20180901.info()\n",
    "# B20180930.info()\n",
    "B20180930.info()\n"
   ]
  },
  {
   "cell_type": "markdown",
   "metadata": {},
   "source": [
    "Xarray introduces labels in the form of dimensions, coordinates and attributes on top of raw NumPy-like multidimensional arrays, which allows for a more intuitive, more concise, and less error-prone developer experience. \n",
    "\n",
    "In Python, NumPy provides the fundamental data structure and API for working with raw ND arrays. However, real-world datasets are usually more than just raw numbers; they have labels which encode information about how the array values map to locations in space, time, etc. \n",
    "\n",
    "Xarray doesn’t just keep track of labels on arrays – it uses them to provide a powerful and concise interface.\n",
    "\n",
    "From: [Why xarray]( http://xarray.pydata.org/en/stable/why-xarray.html)  "
   ]
  },
  {
   "cell_type": "code",
   "execution_count": 4,
   "metadata": {
    "scrolled": true
   },
   "outputs": [
    {
     "data": {
      "text/html": [
       "<div><svg style=\"position: absolute; width: 0; height: 0; overflow: hidden\">\n",
       "<defs>\n",
       "<symbol id=\"icon-database\" viewBox=\"0 0 32 32\">\n",
       "<path d=\"M16 0c-8.837 0-16 2.239-16 5v4c0 2.761 7.163 5 16 5s16-2.239 16-5v-4c0-2.761-7.163-5-16-5z\"></path>\n",
       "<path d=\"M16 17c-8.837 0-16-2.239-16-5v6c0 2.761 7.163 5 16 5s16-2.239 16-5v-6c0 2.761-7.163 5-16 5z\"></path>\n",
       "<path d=\"M16 26c-8.837 0-16-2.239-16-5v6c0 2.761 7.163 5 16 5s16-2.239 16-5v-6c0 2.761-7.163 5-16 5z\"></path>\n",
       "</symbol>\n",
       "<symbol id=\"icon-file-text2\" viewBox=\"0 0 32 32\">\n",
       "<path d=\"M28.681 7.159c-0.694-0.947-1.662-2.053-2.724-3.116s-2.169-2.030-3.116-2.724c-1.612-1.182-2.393-1.319-2.841-1.319h-15.5c-1.378 0-2.5 1.121-2.5 2.5v27c0 1.378 1.122 2.5 2.5 2.5h23c1.378 0 2.5-1.122 2.5-2.5v-19.5c0-0.448-0.137-1.23-1.319-2.841zM24.543 5.457c0.959 0.959 1.712 1.825 2.268 2.543h-4.811v-4.811c0.718 0.556 1.584 1.309 2.543 2.268zM28 29.5c0 0.271-0.229 0.5-0.5 0.5h-23c-0.271 0-0.5-0.229-0.5-0.5v-27c0-0.271 0.229-0.5 0.5-0.5 0 0 15.499-0 15.5 0v7c0 0.552 0.448 1 1 1h7v19.5z\"></path>\n",
       "<path d=\"M23 26h-14c-0.552 0-1-0.448-1-1s0.448-1 1-1h14c0.552 0 1 0.448 1 1s-0.448 1-1 1z\"></path>\n",
       "<path d=\"M23 22h-14c-0.552 0-1-0.448-1-1s0.448-1 1-1h14c0.552 0 1 0.448 1 1s-0.448 1-1 1z\"></path>\n",
       "<path d=\"M23 18h-14c-0.552 0-1-0.448-1-1s0.448-1 1-1h14c0.552 0 1 0.448 1 1s-0.448 1-1 1z\"></path>\n",
       "</symbol>\n",
       "</defs>\n",
       "</svg>\n",
       "<style>/* CSS stylesheet for displaying xarray objects in jupyterlab.\n",
       " *\n",
       " */\n",
       "\n",
       ":root {\n",
       "  --xr-font-color0: var(--jp-content-font-color0, rgba(0, 0, 0, 1));\n",
       "  --xr-font-color2: var(--jp-content-font-color2, rgba(0, 0, 0, 0.54));\n",
       "  --xr-font-color3: var(--jp-content-font-color3, rgba(0, 0, 0, 0.38));\n",
       "  --xr-border-color: var(--jp-border-color2, #e0e0e0);\n",
       "  --xr-disabled-color: var(--jp-layout-color3, #bdbdbd);\n",
       "  --xr-background-color: var(--jp-layout-color0, white);\n",
       "  --xr-background-color-row-even: var(--jp-layout-color1, white);\n",
       "  --xr-background-color-row-odd: var(--jp-layout-color2, #eeeeee);\n",
       "}\n",
       "\n",
       "html[theme=dark],\n",
       "body.vscode-dark {\n",
       "  --xr-font-color0: rgba(255, 255, 255, 1);\n",
       "  --xr-font-color2: rgba(255, 255, 255, 0.54);\n",
       "  --xr-font-color3: rgba(255, 255, 255, 0.38);\n",
       "  --xr-border-color: #1F1F1F;\n",
       "  --xr-disabled-color: #515151;\n",
       "  --xr-background-color: #111111;\n",
       "  --xr-background-color-row-even: #111111;\n",
       "  --xr-background-color-row-odd: #313131;\n",
       "}\n",
       "\n",
       ".xr-wrap {\n",
       "  display: block;\n",
       "  min-width: 300px;\n",
       "  max-width: 700px;\n",
       "}\n",
       "\n",
       ".xr-text-repr-fallback {\n",
       "  /* fallback to plain text repr when CSS is not injected (untrusted notebook) */\n",
       "  display: none;\n",
       "}\n",
       "\n",
       ".xr-header {\n",
       "  padding-top: 6px;\n",
       "  padding-bottom: 6px;\n",
       "  margin-bottom: 4px;\n",
       "  border-bottom: solid 1px var(--xr-border-color);\n",
       "}\n",
       "\n",
       ".xr-header > div,\n",
       ".xr-header > ul {\n",
       "  display: inline;\n",
       "  margin-top: 0;\n",
       "  margin-bottom: 0;\n",
       "}\n",
       "\n",
       ".xr-obj-type,\n",
       ".xr-array-name {\n",
       "  margin-left: 2px;\n",
       "  margin-right: 10px;\n",
       "}\n",
       "\n",
       ".xr-obj-type {\n",
       "  color: var(--xr-font-color2);\n",
       "}\n",
       "\n",
       ".xr-sections {\n",
       "  padding-left: 0 !important;\n",
       "  display: grid;\n",
       "  grid-template-columns: 150px auto auto 1fr 20px 20px;\n",
       "}\n",
       "\n",
       ".xr-section-item {\n",
       "  display: contents;\n",
       "}\n",
       "\n",
       ".xr-section-item input {\n",
       "  display: none;\n",
       "}\n",
       "\n",
       ".xr-section-item input + label {\n",
       "  color: var(--xr-disabled-color);\n",
       "}\n",
       "\n",
       ".xr-section-item input:enabled + label {\n",
       "  cursor: pointer;\n",
       "  color: var(--xr-font-color2);\n",
       "}\n",
       "\n",
       ".xr-section-item input:enabled + label:hover {\n",
       "  color: var(--xr-font-color0);\n",
       "}\n",
       "\n",
       ".xr-section-summary {\n",
       "  grid-column: 1;\n",
       "  color: var(--xr-font-color2);\n",
       "  font-weight: 500;\n",
       "}\n",
       "\n",
       ".xr-section-summary > span {\n",
       "  display: inline-block;\n",
       "  padding-left: 0.5em;\n",
       "}\n",
       "\n",
       ".xr-section-summary-in:disabled + label {\n",
       "  color: var(--xr-font-color2);\n",
       "}\n",
       "\n",
       ".xr-section-summary-in + label:before {\n",
       "  display: inline-block;\n",
       "  content: '►';\n",
       "  font-size: 11px;\n",
       "  width: 15px;\n",
       "  text-align: center;\n",
       "}\n",
       "\n",
       ".xr-section-summary-in:disabled + label:before {\n",
       "  color: var(--xr-disabled-color);\n",
       "}\n",
       "\n",
       ".xr-section-summary-in:checked + label:before {\n",
       "  content: '▼';\n",
       "}\n",
       "\n",
       ".xr-section-summary-in:checked + label > span {\n",
       "  display: none;\n",
       "}\n",
       "\n",
       ".xr-section-summary,\n",
       ".xr-section-inline-details {\n",
       "  padding-top: 4px;\n",
       "  padding-bottom: 4px;\n",
       "}\n",
       "\n",
       ".xr-section-inline-details {\n",
       "  grid-column: 2 / -1;\n",
       "}\n",
       "\n",
       ".xr-section-details {\n",
       "  display: none;\n",
       "  grid-column: 1 / -1;\n",
       "  margin-bottom: 5px;\n",
       "}\n",
       "\n",
       ".xr-section-summary-in:checked ~ .xr-section-details {\n",
       "  display: contents;\n",
       "}\n",
       "\n",
       ".xr-array-wrap {\n",
       "  grid-column: 1 / -1;\n",
       "  display: grid;\n",
       "  grid-template-columns: 20px auto;\n",
       "}\n",
       "\n",
       ".xr-array-wrap > label {\n",
       "  grid-column: 1;\n",
       "  vertical-align: top;\n",
       "}\n",
       "\n",
       ".xr-preview {\n",
       "  color: var(--xr-font-color3);\n",
       "}\n",
       "\n",
       ".xr-array-preview,\n",
       ".xr-array-data {\n",
       "  padding: 0 5px !important;\n",
       "  grid-column: 2;\n",
       "}\n",
       "\n",
       ".xr-array-data,\n",
       ".xr-array-in:checked ~ .xr-array-preview {\n",
       "  display: none;\n",
       "}\n",
       "\n",
       ".xr-array-in:checked ~ .xr-array-data,\n",
       ".xr-array-preview {\n",
       "  display: inline-block;\n",
       "}\n",
       "\n",
       ".xr-dim-list {\n",
       "  display: inline-block !important;\n",
       "  list-style: none;\n",
       "  padding: 0 !important;\n",
       "  margin: 0;\n",
       "}\n",
       "\n",
       ".xr-dim-list li {\n",
       "  display: inline-block;\n",
       "  padding: 0;\n",
       "  margin: 0;\n",
       "}\n",
       "\n",
       ".xr-dim-list:before {\n",
       "  content: '(';\n",
       "}\n",
       "\n",
       ".xr-dim-list:after {\n",
       "  content: ')';\n",
       "}\n",
       "\n",
       ".xr-dim-list li:not(:last-child):after {\n",
       "  content: ',';\n",
       "  padding-right: 5px;\n",
       "}\n",
       "\n",
       ".xr-has-index {\n",
       "  font-weight: bold;\n",
       "}\n",
       "\n",
       ".xr-var-list,\n",
       ".xr-var-item {\n",
       "  display: contents;\n",
       "}\n",
       "\n",
       ".xr-var-item > div,\n",
       ".xr-var-item label,\n",
       ".xr-var-item > .xr-var-name span {\n",
       "  background-color: var(--xr-background-color-row-even);\n",
       "  margin-bottom: 0;\n",
       "}\n",
       "\n",
       ".xr-var-item > .xr-var-name:hover span {\n",
       "  padding-right: 5px;\n",
       "}\n",
       "\n",
       ".xr-var-list > li:nth-child(odd) > div,\n",
       ".xr-var-list > li:nth-child(odd) > label,\n",
       ".xr-var-list > li:nth-child(odd) > .xr-var-name span {\n",
       "  background-color: var(--xr-background-color-row-odd);\n",
       "}\n",
       "\n",
       ".xr-var-name {\n",
       "  grid-column: 1;\n",
       "}\n",
       "\n",
       ".xr-var-dims {\n",
       "  grid-column: 2;\n",
       "}\n",
       "\n",
       ".xr-var-dtype {\n",
       "  grid-column: 3;\n",
       "  text-align: right;\n",
       "  color: var(--xr-font-color2);\n",
       "}\n",
       "\n",
       ".xr-var-preview {\n",
       "  grid-column: 4;\n",
       "}\n",
       "\n",
       ".xr-var-name,\n",
       ".xr-var-dims,\n",
       ".xr-var-dtype,\n",
       ".xr-preview,\n",
       ".xr-attrs dt {\n",
       "  white-space: nowrap;\n",
       "  overflow: hidden;\n",
       "  text-overflow: ellipsis;\n",
       "  padding-right: 10px;\n",
       "}\n",
       "\n",
       ".xr-var-name:hover,\n",
       ".xr-var-dims:hover,\n",
       ".xr-var-dtype:hover,\n",
       ".xr-attrs dt:hover {\n",
       "  overflow: visible;\n",
       "  width: auto;\n",
       "  z-index: 1;\n",
       "}\n",
       "\n",
       ".xr-var-attrs,\n",
       ".xr-var-data {\n",
       "  display: none;\n",
       "  background-color: var(--xr-background-color) !important;\n",
       "  padding-bottom: 5px !important;\n",
       "}\n",
       "\n",
       ".xr-var-attrs-in:checked ~ .xr-var-attrs,\n",
       ".xr-var-data-in:checked ~ .xr-var-data {\n",
       "  display: block;\n",
       "}\n",
       "\n",
       ".xr-var-data > table {\n",
       "  float: right;\n",
       "}\n",
       "\n",
       ".xr-var-name span,\n",
       ".xr-var-data,\n",
       ".xr-attrs {\n",
       "  padding-left: 25px !important;\n",
       "}\n",
       "\n",
       ".xr-attrs,\n",
       ".xr-var-attrs,\n",
       ".xr-var-data {\n",
       "  grid-column: 1 / -1;\n",
       "}\n",
       "\n",
       "dl.xr-attrs {\n",
       "  padding: 0;\n",
       "  margin: 0;\n",
       "  display: grid;\n",
       "  grid-template-columns: 125px auto;\n",
       "}\n",
       "\n",
       ".xr-attrs dt,\n",
       ".xr-attrs dd {\n",
       "  padding: 0;\n",
       "  margin: 0;\n",
       "  float: left;\n",
       "  padding-right: 10px;\n",
       "  width: auto;\n",
       "}\n",
       "\n",
       ".xr-attrs dt {\n",
       "  font-weight: normal;\n",
       "  grid-column: 1;\n",
       "}\n",
       "\n",
       ".xr-attrs dt:hover span {\n",
       "  display: inline-block;\n",
       "  background: var(--xr-background-color);\n",
       "  padding-right: 10px;\n",
       "}\n",
       "\n",
       ".xr-attrs dd {\n",
       "  grid-column: 2;\n",
       "  white-space: pre-wrap;\n",
       "  word-break: break-all;\n",
       "}\n",
       "\n",
       ".xr-icon-database,\n",
       ".xr-icon-file-text2 {\n",
       "  display: inline-block;\n",
       "  vertical-align: middle;\n",
       "  width: 1em;\n",
       "  height: 1.5em !important;\n",
       "  stroke-width: 0;\n",
       "  stroke: currentColor;\n",
       "  fill: currentColor;\n",
       "}\n",
       "</style><pre class='xr-text-repr-fallback'>&lt;xarray.Dataset&gt;\n",
       "Dimensions:                           (FLASH_1SIG_GROUP_COUNT_x: 5, FLASH_1SIG_SERIES_COUNT_x: 5, FLASH_2SIG_GROUP_COUNT_x: 5, FLASH_2SIG_SERIES_COUNT_x: 5, FLASH_3SIG_GROUP_COUNT_x: 5, FLASH_3SIG_SERIES_COUNT_x: 5, FLASH_AREA_x: 5, FLASH_DURATION_x: 5, FLASH_ENERGY_x: 5, FLASH_EVENT_COUNT_x: 5, FLASH_EVENT_MAX_ENERGY_x: 5, FLASH_EVENT_MAX_SEPARATION_x: 5, FLASH_EVENT_MIN_ENERGY_x: 5, FLASH_GROUP_COUNT_x: 5, FLASH_GROUP_MAX_ENERGY_x: 5, FLASH_GROUP_MAX_SEPARATION_x: 5, FLASH_GROUP_MEAN_ENERGY_x: 5, FLASH_GROUP_MIN_ENERGY_x: 5, FLASH_GROUP_TOTAL_SEPARATION_x: 5, FLASH_ID_x: 5, FLASH_LAT_x: 5, FLASH_LCFA_CDATE_x: 5, FLASH_LCFA_TSTAMP_x: 5, FLASH_LON_x: 5, FLASH_SERIES_COUNT_x: 5, FLASH_TIME_OFFSET_OF_FIRST_EVENT_x: 5, FLASH_TIME_OFFSET_OF_LAST_EVENT_x: 5)\n",
       "Dimensions without coordinates: FLASH_1SIG_GROUP_COUNT_x, FLASH_1SIG_SERIES_COUNT_x, FLASH_2SIG_GROUP_COUNT_x, FLASH_2SIG_SERIES_COUNT_x, FLASH_3SIG_GROUP_COUNT_x, FLASH_3SIG_SERIES_COUNT_x, FLASH_AREA_x, FLASH_DURATION_x, FLASH_ENERGY_x, FLASH_EVENT_COUNT_x, FLASH_EVENT_MAX_ENERGY_x, FLASH_EVENT_MAX_SEPARATION_x, FLASH_EVENT_MIN_ENERGY_x, FLASH_GROUP_COUNT_x, FLASH_GROUP_MAX_ENERGY_x, FLASH_GROUP_MAX_SEPARATION_x, FLASH_GROUP_MEAN_ENERGY_x, FLASH_GROUP_MIN_ENERGY_x, FLASH_GROUP_TOTAL_SEPARATION_x, FLASH_ID_x, FLASH_LAT_x, FLASH_LCFA_CDATE_x, FLASH_LCFA_TSTAMP_x, FLASH_LON_x, FLASH_SERIES_COUNT_x, FLASH_TIME_OFFSET_OF_FIRST_EVENT_x, FLASH_TIME_OFFSET_OF_LAST_EVENT_x\n",
       "Data variables:\n",
       "    FLASH_ID                          (FLASH_ID_x) int32 -9559 -9557 ... -9547\n",
       "    FLASH_LCFA_CDATE                  (FLASH_LCFA_CDATE_x) int32 2018090 ... ...\n",
       "    FLASH_LCFA_TSTAMP                 (FLASH_LCFA_TSTAMP_x) int32 0 0 0 0 0\n",
       "    FLASH_TIME_OFFSET_OF_FIRST_EVENT  (FLASH_TIME_OFFSET_OF_FIRST_EVENT_x) float32 ...\n",
       "    FLASH_TIME_OFFSET_OF_LAST_EVENT   (FLASH_TIME_OFFSET_OF_LAST_EVENT_x) float32 ...\n",
       "    FLASH_LAT                         (FLASH_LAT_x) float32 -21.55 ... 37.78\n",
       "    FLASH_LON                         (FLASH_LON_x) float32 -65.92 ... -70.57\n",
       "    FLASH_AREA                        (FLASH_AREA_x) float32 1.367e+08 ... 1....\n",
       "    FLASH_ENERGY                      (FLASH_ENERGY_x) float32 3.052e-14 ... ...\n",
       "    FLASH_GROUP_COUNT                 (FLASH_GROUP_COUNT_x) int32 11 52 ... 115\n",
       "    FLASH_SERIES_COUNT                (FLASH_SERIES_COUNT_x) int32 9 16 16 12 15\n",
       "    FLASH_EVENT_COUNT                 (FLASH_EVENT_COUNT_x) int32 12 100 ... 347\n",
       "    FLASH_DURATION                    (FLASH_DURATION_x) float32 0.258 ... 0.652\n",
       "    FLASH_GROUP_MAX_SEPARATION        (FLASH_GROUP_MAX_SEPARATION_x) float32 ...\n",
       "    FLASH_GROUP_TOTAL_SEPARATION      (FLASH_GROUP_TOTAL_SEPARATION_x) float32 ...\n",
       "    FLASH_EVENT_MAX_SEPARATION        (FLASH_EVENT_MAX_SEPARATION_x) float32 ...\n",
       "    FLASH_1SIG_GROUP_COUNT            (FLASH_1SIG_GROUP_COUNT_x) int32 3 ... 14\n",
       "    FLASH_2SIG_GROUP_COUNT            (FLASH_2SIG_GROUP_COUNT_x) int32 1 2 1 1 7\n",
       "    FLASH_3SIG_GROUP_COUNT            (FLASH_3SIG_GROUP_COUNT_x) int32 0 0 1 1 2\n",
       "    FLASH_1SIG_SERIES_COUNT           (FLASH_1SIG_SERIES_COUNT_x) int32 3 ... 2\n",
       "    FLASH_2SIG_SERIES_COUNT           (FLASH_2SIG_SERIES_COUNT_x) int32 1 ... 2\n",
       "    FLASH_3SIG_SERIES_COUNT           (FLASH_3SIG_SERIES_COUNT_x) int32 0 ... 2\n",
       "    FLASH_EVENT_MAX_ENERGY            (FLASH_EVENT_MAX_ENERGY_x) float32 6.10...\n",
       "    FLASH_EVENT_MIN_ENERGY            (FLASH_EVENT_MIN_ENERGY_x) float32 1.52...\n",
       "    FLASH_GROUP_MAX_ENERGY            (FLASH_GROUP_MAX_ENERGY_x) float32 6.10...\n",
       "    FLASH_GROUP_MEAN_ENERGY           (FLASH_GROUP_MEAN_ENERGY_x) float32 2.6...\n",
       "    FLASH_GROUP_MIN_ENERGY            (FLASH_GROUP_MIN_ENERGY_x) float32 1.52...</pre><div class='xr-wrap' hidden><div class='xr-header'><div class='xr-obj-type'>xarray.Dataset</div></div><ul class='xr-sections'><li class='xr-section-item'><input id='section-cf12fecf-92ba-4ffe-bdc9-e03c98ff7c74' class='xr-section-summary-in' type='checkbox' disabled ><label for='section-cf12fecf-92ba-4ffe-bdc9-e03c98ff7c74' class='xr-section-summary'  title='Expand/collapse section'>Dimensions:</label><div class='xr-section-inline-details'><ul class='xr-dim-list'><li><span>FLASH_1SIG_GROUP_COUNT_x</span>: 5</li><li><span>FLASH_1SIG_SERIES_COUNT_x</span>: 5</li><li><span>FLASH_2SIG_GROUP_COUNT_x</span>: 5</li><li><span>FLASH_2SIG_SERIES_COUNT_x</span>: 5</li><li><span>FLASH_3SIG_GROUP_COUNT_x</span>: 5</li><li><span>FLASH_3SIG_SERIES_COUNT_x</span>: 5</li><li><span>FLASH_AREA_x</span>: 5</li><li><span>FLASH_DURATION_x</span>: 5</li><li><span>FLASH_ENERGY_x</span>: 5</li><li><span>FLASH_EVENT_COUNT_x</span>: 5</li><li><span>FLASH_EVENT_MAX_ENERGY_x</span>: 5</li><li><span>FLASH_EVENT_MAX_SEPARATION_x</span>: 5</li><li><span>FLASH_EVENT_MIN_ENERGY_x</span>: 5</li><li><span>FLASH_GROUP_COUNT_x</span>: 5</li><li><span>FLASH_GROUP_MAX_ENERGY_x</span>: 5</li><li><span>FLASH_GROUP_MAX_SEPARATION_x</span>: 5</li><li><span>FLASH_GROUP_MEAN_ENERGY_x</span>: 5</li><li><span>FLASH_GROUP_MIN_ENERGY_x</span>: 5</li><li><span>FLASH_GROUP_TOTAL_SEPARATION_x</span>: 5</li><li><span>FLASH_ID_x</span>: 5</li><li><span>FLASH_LAT_x</span>: 5</li><li><span>FLASH_LCFA_CDATE_x</span>: 5</li><li><span>FLASH_LCFA_TSTAMP_x</span>: 5</li><li><span>FLASH_LON_x</span>: 5</li><li><span>FLASH_SERIES_COUNT_x</span>: 5</li><li><span>FLASH_TIME_OFFSET_OF_FIRST_EVENT_x</span>: 5</li><li><span>FLASH_TIME_OFFSET_OF_LAST_EVENT_x</span>: 5</li></ul></div><div class='xr-section-details'></div></li><li class='xr-section-item'><input id='section-90befa1d-a6d0-47d8-86d3-cc5e45bc5436' class='xr-section-summary-in' type='checkbox' disabled ><label for='section-90befa1d-a6d0-47d8-86d3-cc5e45bc5436' class='xr-section-summary'  title='Expand/collapse section'>Coordinates: <span>(0)</span></label><div class='xr-section-inline-details'></div><div class='xr-section-details'><ul class='xr-var-list'></ul></div></li><li class='xr-section-item'><input id='section-de157f8c-c204-4436-8fa2-b8609d8ba259' class='xr-section-summary-in' type='checkbox'  ><label for='section-de157f8c-c204-4436-8fa2-b8609d8ba259' class='xr-section-summary' >Data variables: <span>(27)</span></label><div class='xr-section-inline-details'></div><div class='xr-section-details'><ul class='xr-var-list'><li class='xr-var-item'><div class='xr-var-name'><span>FLASH_ID</span></div><div class='xr-var-dims'>(FLASH_ID_x)</div><div class='xr-var-dtype'>int32</div><div class='xr-var-preview xr-preview'>...</div><input id='attrs-065815ec-de02-4b4f-88a7-5b50e559c8c7' class='xr-var-attrs-in' type='checkbox' disabled><label for='attrs-065815ec-de02-4b4f-88a7-5b50e559c8c7' title='Show/Hide attributes'><svg class='icon xr-icon-file-text2'><use xlink:href='#icon-file-text2'></use></svg></label><input id='data-784b2f9c-cf70-4841-bb8b-4eb9c86bb44c' class='xr-var-data-in' type='checkbox'><label for='data-784b2f9c-cf70-4841-bb8b-4eb9c86bb44c' title='Show/Hide data repr'><svg class='icon xr-icon-database'><use xlink:href='#icon-database'></use></svg></label><div class='xr-var-attrs'><dl class='xr-attrs'></dl></div><div class='xr-var-data'><pre>array([-9559, -9557, -9555, -9553, -9547])</pre></div></li><li class='xr-var-item'><div class='xr-var-name'><span>FLASH_LCFA_CDATE</span></div><div class='xr-var-dims'>(FLASH_LCFA_CDATE_x)</div><div class='xr-var-dtype'>int32</div><div class='xr-var-preview xr-preview'>...</div><input id='attrs-56ee7670-43a5-4af4-86ba-fb776eae3edf' class='xr-var-attrs-in' type='checkbox' disabled><label for='attrs-56ee7670-43a5-4af4-86ba-fb776eae3edf' title='Show/Hide attributes'><svg class='icon xr-icon-file-text2'><use xlink:href='#icon-file-text2'></use></svg></label><input id='data-235fcec9-64c9-4d83-a1c8-3d5d821b0268' class='xr-var-data-in' type='checkbox'><label for='data-235fcec9-64c9-4d83-a1c8-3d5d821b0268' title='Show/Hide data repr'><svg class='icon xr-icon-database'><use xlink:href='#icon-database'></use></svg></label><div class='xr-var-attrs'><dl class='xr-attrs'></dl></div><div class='xr-var-data'><pre>array([2018090, 2018090, 2018090, 2018090, 2018090])</pre></div></li><li class='xr-var-item'><div class='xr-var-name'><span>FLASH_LCFA_TSTAMP</span></div><div class='xr-var-dims'>(FLASH_LCFA_TSTAMP_x)</div><div class='xr-var-dtype'>int32</div><div class='xr-var-preview xr-preview'>...</div><input id='attrs-c594a537-59bb-4473-be55-39c50ee7e592' class='xr-var-attrs-in' type='checkbox' disabled><label for='attrs-c594a537-59bb-4473-be55-39c50ee7e592' title='Show/Hide attributes'><svg class='icon xr-icon-file-text2'><use xlink:href='#icon-file-text2'></use></svg></label><input id='data-5fcccf19-eb6e-4b54-a295-5d53f0574cd1' class='xr-var-data-in' type='checkbox'><label for='data-5fcccf19-eb6e-4b54-a295-5d53f0574cd1' title='Show/Hide data repr'><svg class='icon xr-icon-database'><use xlink:href='#icon-database'></use></svg></label><div class='xr-var-attrs'><dl class='xr-attrs'></dl></div><div class='xr-var-data'><pre>array([0, 0, 0, 0, 0])</pre></div></li><li class='xr-var-item'><div class='xr-var-name'><span>FLASH_TIME_OFFSET_OF_FIRST_EVENT</span></div><div class='xr-var-dims'>(FLASH_TIME_OFFSET_OF_FIRST_EVENT_x)</div><div class='xr-var-dtype'>float32</div><div class='xr-var-preview xr-preview'>...</div><input id='attrs-89f34535-41c2-4c73-b080-0bc75da271a4' class='xr-var-attrs-in' type='checkbox' disabled><label for='attrs-89f34535-41c2-4c73-b080-0bc75da271a4' title='Show/Hide attributes'><svg class='icon xr-icon-file-text2'><use xlink:href='#icon-file-text2'></use></svg></label><input id='data-e5fa73ec-cb7f-47f0-b776-17ff2aa301fc' class='xr-var-data-in' type='checkbox'><label for='data-e5fa73ec-cb7f-47f0-b776-17ff2aa301fc' title='Show/Hide data repr'><svg class='icon xr-icon-database'><use xlink:href='#icon-database'></use></svg></label><div class='xr-var-attrs'><dl class='xr-attrs'></dl></div><div class='xr-var-data'><pre>array([-0.572, -0.43 , -0.184, -0.046,  0.256], dtype=float32)</pre></div></li><li class='xr-var-item'><div class='xr-var-name'><span>FLASH_TIME_OFFSET_OF_LAST_EVENT</span></div><div class='xr-var-dims'>(FLASH_TIME_OFFSET_OF_LAST_EVENT_x)</div><div class='xr-var-dtype'>float32</div><div class='xr-var-preview xr-preview'>...</div><input id='attrs-706176c2-2c4d-4085-bf4d-12bd5f3a606c' class='xr-var-attrs-in' type='checkbox' disabled><label for='attrs-706176c2-2c4d-4085-bf4d-12bd5f3a606c' title='Show/Hide attributes'><svg class='icon xr-icon-file-text2'><use xlink:href='#icon-file-text2'></use></svg></label><input id='data-67d88da2-5d33-4354-a777-656b8f1b7915' class='xr-var-data-in' type='checkbox'><label for='data-67d88da2-5d33-4354-a777-656b8f1b7915' title='Show/Hide data repr'><svg class='icon xr-icon-database'><use xlink:href='#icon-database'></use></svg></label><div class='xr-var-attrs'><dl class='xr-attrs'></dl></div><div class='xr-var-data'><pre>array([-0.572, -0.43 , -0.184, -0.046,  0.256], dtype=float32)</pre></div></li><li class='xr-var-item'><div class='xr-var-name'><span>FLASH_LAT</span></div><div class='xr-var-dims'>(FLASH_LAT_x)</div><div class='xr-var-dtype'>float32</div><div class='xr-var-preview xr-preview'>...</div><input id='attrs-b4d76bff-24dc-46b3-8adf-df40d881f81e' class='xr-var-attrs-in' type='checkbox' disabled><label for='attrs-b4d76bff-24dc-46b3-8adf-df40d881f81e' title='Show/Hide attributes'><svg class='icon xr-icon-file-text2'><use xlink:href='#icon-file-text2'></use></svg></label><input id='data-3b38b41e-f36b-4805-a7df-222da7fbfb86' class='xr-var-data-in' type='checkbox'><label for='data-3b38b41e-f36b-4805-a7df-222da7fbfb86' title='Show/Hide data repr'><svg class='icon xr-icon-database'><use xlink:href='#icon-database'></use></svg></label><div class='xr-var-attrs'><dl class='xr-attrs'></dl></div><div class='xr-var-data'><pre>array([-21.547247, -18.311792,  15.747572, -24.390753,  37.776203],\n",
       "      dtype=float32)</pre></div></li><li class='xr-var-item'><div class='xr-var-name'><span>FLASH_LON</span></div><div class='xr-var-dims'>(FLASH_LON_x)</div><div class='xr-var-dtype'>float32</div><div class='xr-var-preview xr-preview'>...</div><input id='attrs-9f683221-3f38-49d3-aadb-7705b7ecd3c6' class='xr-var-attrs-in' type='checkbox' disabled><label for='attrs-9f683221-3f38-49d3-aadb-7705b7ecd3c6' title='Show/Hide attributes'><svg class='icon xr-icon-file-text2'><use xlink:href='#icon-file-text2'></use></svg></label><input id='data-c1ffcdb0-c59f-4118-b1b0-80a255181bbe' class='xr-var-data-in' type='checkbox'><label for='data-c1ffcdb0-c59f-4118-b1b0-80a255181bbe' title='Show/Hide data repr'><svg class='icon xr-icon-database'><use xlink:href='#icon-database'></use></svg></label><div class='xr-var-attrs'><dl class='xr-attrs'></dl></div><div class='xr-var-data'><pre>array([-65.91689 , -65.49975 , -92.30565 , -54.273983, -70.56887 ],\n",
       "      dtype=float32)</pre></div></li><li class='xr-var-item'><div class='xr-var-name'><span>FLASH_AREA</span></div><div class='xr-var-dims'>(FLASH_AREA_x)</div><div class='xr-var-dtype'>float32</div><div class='xr-var-preview xr-preview'>...</div><input id='attrs-943eabb1-bcd2-4ae3-8028-fa35b2786ccd' class='xr-var-attrs-in' type='checkbox' disabled><label for='attrs-943eabb1-bcd2-4ae3-8028-fa35b2786ccd' title='Show/Hide attributes'><svg class='icon xr-icon-file-text2'><use xlink:href='#icon-file-text2'></use></svg></label><input id='data-d4e2bea2-eff8-48f9-aa1c-29a85ab3e0c9' class='xr-var-data-in' type='checkbox'><label for='data-d4e2bea2-eff8-48f9-aa1c-29a85ab3e0c9' title='Show/Hide data repr'><svg class='icon xr-icon-database'><use xlink:href='#icon-database'></use></svg></label><div class='xr-var-attrs'><dl class='xr-attrs'></dl></div><div class='xr-var-data'><pre>array([1.366546e+08, 5.689092e+08, 4.365005e+08, 1.881884e+09, 1.689303e+09],\n",
       "      dtype=float32)</pre></div></li><li class='xr-var-item'><div class='xr-var-name'><span>FLASH_ENERGY</span></div><div class='xr-var-dims'>(FLASH_ENERGY_x)</div><div class='xr-var-dtype'>float32</div><div class='xr-var-preview xr-preview'>...</div><input id='attrs-29ee5730-3b73-41f2-8718-f87d451d89aa' class='xr-var-attrs-in' type='checkbox' disabled><label for='attrs-29ee5730-3b73-41f2-8718-f87d451d89aa' title='Show/Hide attributes'><svg class='icon xr-icon-file-text2'><use xlink:href='#icon-file-text2'></use></svg></label><input id='data-7d6616da-f20f-47fa-8c36-a6923ce17158' class='xr-var-data-in' type='checkbox'><label for='data-7d6616da-f20f-47fa-8c36-a6923ce17158' title='Show/Hide data repr'><svg class='icon xr-icon-database'><use xlink:href='#icon-database'></use></svg></label><div class='xr-var-attrs'><dl class='xr-attrs'></dl></div><div class='xr-var-data'><pre>array([3.051940e-14, 4.379532e-13, 1.190256e-13, 2.914602e-13, 2.638404e-12],\n",
       "      dtype=float32)</pre></div></li><li class='xr-var-item'><div class='xr-var-name'><span>FLASH_GROUP_COUNT</span></div><div class='xr-var-dims'>(FLASH_GROUP_COUNT_x)</div><div class='xr-var-dtype'>int32</div><div class='xr-var-preview xr-preview'>...</div><input id='attrs-628bbc84-e195-4fd9-b002-49c12d727f6b' class='xr-var-attrs-in' type='checkbox' disabled><label for='attrs-628bbc84-e195-4fd9-b002-49c12d727f6b' title='Show/Hide attributes'><svg class='icon xr-icon-file-text2'><use xlink:href='#icon-file-text2'></use></svg></label><input id='data-9f2d9b7b-083c-43f5-a3d4-30a3fdf13698' class='xr-var-data-in' type='checkbox'><label for='data-9f2d9b7b-083c-43f5-a3d4-30a3fdf13698' title='Show/Hide data repr'><svg class='icon xr-icon-database'><use xlink:href='#icon-database'></use></svg></label><div class='xr-var-attrs'><dl class='xr-attrs'></dl></div><div class='xr-var-data'><pre>array([ 11,  52,  21,  19, 115])</pre></div></li><li class='xr-var-item'><div class='xr-var-name'><span>FLASH_SERIES_COUNT</span></div><div class='xr-var-dims'>(FLASH_SERIES_COUNT_x)</div><div class='xr-var-dtype'>int32</div><div class='xr-var-preview xr-preview'>...</div><input id='attrs-a255435c-788e-4a6b-b6f6-2178775d9aaf' class='xr-var-attrs-in' type='checkbox' disabled><label for='attrs-a255435c-788e-4a6b-b6f6-2178775d9aaf' title='Show/Hide attributes'><svg class='icon xr-icon-file-text2'><use xlink:href='#icon-file-text2'></use></svg></label><input id='data-7b1252e6-6644-48df-adb2-11a51326856c' class='xr-var-data-in' type='checkbox'><label for='data-7b1252e6-6644-48df-adb2-11a51326856c' title='Show/Hide data repr'><svg class='icon xr-icon-database'><use xlink:href='#icon-database'></use></svg></label><div class='xr-var-attrs'><dl class='xr-attrs'></dl></div><div class='xr-var-data'><pre>array([ 9, 16, 16, 12, 15])</pre></div></li><li class='xr-var-item'><div class='xr-var-name'><span>FLASH_EVENT_COUNT</span></div><div class='xr-var-dims'>(FLASH_EVENT_COUNT_x)</div><div class='xr-var-dtype'>int32</div><div class='xr-var-preview xr-preview'>...</div><input id='attrs-aa9f9ab5-969e-4079-870f-3a6dfabb87d3' class='xr-var-attrs-in' type='checkbox' disabled><label for='attrs-aa9f9ab5-969e-4079-870f-3a6dfabb87d3' title='Show/Hide attributes'><svg class='icon xr-icon-file-text2'><use xlink:href='#icon-file-text2'></use></svg></label><input id='data-07ed8339-629a-4ad2-b536-c99a89757921' class='xr-var-data-in' type='checkbox'><label for='data-07ed8339-629a-4ad2-b536-c99a89757921' title='Show/Hide data repr'><svg class='icon xr-icon-database'><use xlink:href='#icon-database'></use></svg></label><div class='xr-var-attrs'><dl class='xr-attrs'></dl></div><div class='xr-var-data'><pre>array([ 12, 100,  39,  69, 347])</pre></div></li><li class='xr-var-item'><div class='xr-var-name'><span>FLASH_DURATION</span></div><div class='xr-var-dims'>(FLASH_DURATION_x)</div><div class='xr-var-dtype'>float32</div><div class='xr-var-preview xr-preview'>...</div><input id='attrs-484cd689-4499-4338-b1db-d705d18589fc' class='xr-var-attrs-in' type='checkbox' disabled><label for='attrs-484cd689-4499-4338-b1db-d705d18589fc' title='Show/Hide attributes'><svg class='icon xr-icon-file-text2'><use xlink:href='#icon-file-text2'></use></svg></label><input id='data-1491d5c6-d600-4b1c-a88e-a6446ab6a333' class='xr-var-data-in' type='checkbox'><label for='data-1491d5c6-d600-4b1c-a88e-a6446ab6a333' title='Show/Hide data repr'><svg class='icon xr-icon-database'><use xlink:href='#icon-database'></use></svg></label><div class='xr-var-attrs'><dl class='xr-attrs'></dl></div><div class='xr-var-data'><pre>array([0.258, 0.376, 0.506, 0.266, 0.652], dtype=float32)</pre></div></li><li class='xr-var-item'><div class='xr-var-name'><span>FLASH_GROUP_MAX_SEPARATION</span></div><div class='xr-var-dims'>(FLASH_GROUP_MAX_SEPARATION_x)</div><div class='xr-var-dtype'>float32</div><div class='xr-var-preview xr-preview'>...</div><input id='attrs-6fba9d54-63bf-44bb-b308-47d8b353c21f' class='xr-var-attrs-in' type='checkbox' disabled><label for='attrs-6fba9d54-63bf-44bb-b308-47d8b353c21f' title='Show/Hide attributes'><svg class='icon xr-icon-file-text2'><use xlink:href='#icon-file-text2'></use></svg></label><input id='data-21c3977f-22a0-4ce7-a177-8c99aad8aaec' class='xr-var-data-in' type='checkbox'><label for='data-21c3977f-22a0-4ce7-a177-8c99aad8aaec' title='Show/Hide data repr'><svg class='icon xr-icon-database'><use xlink:href='#icon-database'></use></svg></label><div class='xr-var-attrs'><dl class='xr-attrs'></dl></div><div class='xr-var-data'><pre>array([ 1.648655, 11.16643 ,  6.167099,  9.144122, 26.030235], dtype=float32)</pre></div></li><li class='xr-var-item'><div class='xr-var-name'><span>FLASH_GROUP_TOTAL_SEPARATION</span></div><div class='xr-var-dims'>(FLASH_GROUP_TOTAL_SEPARATION_x)</div><div class='xr-var-dtype'>float32</div><div class='xr-var-preview xr-preview'>...</div><input id='attrs-88c0e0b8-8a7b-44f0-bee4-6f944642200f' class='xr-var-attrs-in' type='checkbox' disabled><label for='attrs-88c0e0b8-8a7b-44f0-bee4-6f944642200f' title='Show/Hide attributes'><svg class='icon xr-icon-file-text2'><use xlink:href='#icon-file-text2'></use></svg></label><input id='data-b102721b-5cca-4d6f-896c-ff89bc8975ef' class='xr-var-data-in' type='checkbox'><label for='data-b102721b-5cca-4d6f-896c-ff89bc8975ef' title='Show/Hide data repr'><svg class='icon xr-icon-database'><use xlink:href='#icon-database'></use></svg></label><div class='xr-var-attrs'><dl class='xr-attrs'></dl></div><div class='xr-var-data'><pre>array([  1.668302,  25.164053,  12.202669,  21.21036 , 100.800575],\n",
       "      dtype=float32)</pre></div></li><li class='xr-var-item'><div class='xr-var-name'><span>FLASH_EVENT_MAX_SEPARATION</span></div><div class='xr-var-dims'>(FLASH_EVENT_MAX_SEPARATION_x)</div><div class='xr-var-dtype'>float32</div><div class='xr-var-preview xr-preview'>...</div><input id='attrs-c46b518e-c507-481f-bada-1970bb2e3e4b' class='xr-var-attrs-in' type='checkbox' disabled><label for='attrs-c46b518e-c507-481f-bada-1970bb2e3e4b' title='Show/Hide attributes'><svg class='icon xr-icon-file-text2'><use xlink:href='#icon-file-text2'></use></svg></label><input id='data-f3b8ece1-8eef-407f-93f4-684b22f1e833' class='xr-var-data-in' type='checkbox'><label for='data-f3b8ece1-8eef-407f-93f4-684b22f1e833' title='Show/Hide data repr'><svg class='icon xr-icon-database'><use xlink:href='#icon-database'></use></svg></label><div class='xr-var-attrs'><dl class='xr-attrs'></dl></div><div class='xr-var-data'><pre>array([ 8.379539, 23.252794, 18.51403 , 43.996384, 52.28086 ], dtype=float32)</pre></div></li><li class='xr-var-item'><div class='xr-var-name'><span>FLASH_1SIG_GROUP_COUNT</span></div><div class='xr-var-dims'>(FLASH_1SIG_GROUP_COUNT_x)</div><div class='xr-var-dtype'>int32</div><div class='xr-var-preview xr-preview'>...</div><input id='attrs-e675b430-aced-4438-81ce-9d284638199b' class='xr-var-attrs-in' type='checkbox' disabled><label for='attrs-e675b430-aced-4438-81ce-9d284638199b' title='Show/Hide attributes'><svg class='icon xr-icon-file-text2'><use xlink:href='#icon-file-text2'></use></svg></label><input id='data-6f018430-ed2d-4bcd-ac24-d1d4cda0b1aa' class='xr-var-data-in' type='checkbox'><label for='data-6f018430-ed2d-4bcd-ac24-d1d4cda0b1aa' title='Show/Hide data repr'><svg class='icon xr-icon-database'><use xlink:href='#icon-database'></use></svg></label><div class='xr-var-attrs'><dl class='xr-attrs'></dl></div><div class='xr-var-data'><pre>array([ 3, 11,  3,  2, 14])</pre></div></li><li class='xr-var-item'><div class='xr-var-name'><span>FLASH_2SIG_GROUP_COUNT</span></div><div class='xr-var-dims'>(FLASH_2SIG_GROUP_COUNT_x)</div><div class='xr-var-dtype'>int32</div><div class='xr-var-preview xr-preview'>...</div><input id='attrs-daed8ccd-5d0c-42e5-aa48-991562b37d4d' class='xr-var-attrs-in' type='checkbox' disabled><label for='attrs-daed8ccd-5d0c-42e5-aa48-991562b37d4d' title='Show/Hide attributes'><svg class='icon xr-icon-file-text2'><use xlink:href='#icon-file-text2'></use></svg></label><input id='data-32d3ca61-23e6-47fa-9f15-7b90f9454da7' class='xr-var-data-in' type='checkbox'><label for='data-32d3ca61-23e6-47fa-9f15-7b90f9454da7' title='Show/Hide data repr'><svg class='icon xr-icon-database'><use xlink:href='#icon-database'></use></svg></label><div class='xr-var-attrs'><dl class='xr-attrs'></dl></div><div class='xr-var-data'><pre>array([1, 2, 1, 1, 7])</pre></div></li><li class='xr-var-item'><div class='xr-var-name'><span>FLASH_3SIG_GROUP_COUNT</span></div><div class='xr-var-dims'>(FLASH_3SIG_GROUP_COUNT_x)</div><div class='xr-var-dtype'>int32</div><div class='xr-var-preview xr-preview'>...</div><input id='attrs-45fd1138-f367-4bde-bff6-eba4ace23ddb' class='xr-var-attrs-in' type='checkbox' disabled><label for='attrs-45fd1138-f367-4bde-bff6-eba4ace23ddb' title='Show/Hide attributes'><svg class='icon xr-icon-file-text2'><use xlink:href='#icon-file-text2'></use></svg></label><input id='data-d5568737-bcaf-4dcd-ad16-e7447029bcc6' class='xr-var-data-in' type='checkbox'><label for='data-d5568737-bcaf-4dcd-ad16-e7447029bcc6' title='Show/Hide data repr'><svg class='icon xr-icon-database'><use xlink:href='#icon-database'></use></svg></label><div class='xr-var-attrs'><dl class='xr-attrs'></dl></div><div class='xr-var-data'><pre>array([0, 0, 1, 1, 2])</pre></div></li><li class='xr-var-item'><div class='xr-var-name'><span>FLASH_1SIG_SERIES_COUNT</span></div><div class='xr-var-dims'>(FLASH_1SIG_SERIES_COUNT_x)</div><div class='xr-var-dtype'>int32</div><div class='xr-var-preview xr-preview'>...</div><input id='attrs-4ec12a38-e246-4ad7-8d8a-6fab6457154c' class='xr-var-attrs-in' type='checkbox' disabled><label for='attrs-4ec12a38-e246-4ad7-8d8a-6fab6457154c' title='Show/Hide attributes'><svg class='icon xr-icon-file-text2'><use xlink:href='#icon-file-text2'></use></svg></label><input id='data-7bb7956d-36fd-49c1-9a81-62f5a57b652f' class='xr-var-data-in' type='checkbox'><label for='data-7bb7956d-36fd-49c1-9a81-62f5a57b652f' title='Show/Hide data repr'><svg class='icon xr-icon-database'><use xlink:href='#icon-database'></use></svg></label><div class='xr-var-attrs'><dl class='xr-attrs'></dl></div><div class='xr-var-data'><pre>array([3, 2, 3, 2, 2])</pre></div></li><li class='xr-var-item'><div class='xr-var-name'><span>FLASH_2SIG_SERIES_COUNT</span></div><div class='xr-var-dims'>(FLASH_2SIG_SERIES_COUNT_x)</div><div class='xr-var-dtype'>int32</div><div class='xr-var-preview xr-preview'>...</div><input id='attrs-d11e6390-f9ec-4454-8b37-1359bcbc7d1c' class='xr-var-attrs-in' type='checkbox' disabled><label for='attrs-d11e6390-f9ec-4454-8b37-1359bcbc7d1c' title='Show/Hide attributes'><svg class='icon xr-icon-file-text2'><use xlink:href='#icon-file-text2'></use></svg></label><input id='data-8244f825-4525-443a-b275-97733b0d67ce' class='xr-var-data-in' type='checkbox'><label for='data-8244f825-4525-443a-b275-97733b0d67ce' title='Show/Hide data repr'><svg class='icon xr-icon-database'><use xlink:href='#icon-database'></use></svg></label><div class='xr-var-attrs'><dl class='xr-attrs'></dl></div><div class='xr-var-data'><pre>array([1, 1, 1, 1, 2])</pre></div></li><li class='xr-var-item'><div class='xr-var-name'><span>FLASH_3SIG_SERIES_COUNT</span></div><div class='xr-var-dims'>(FLASH_3SIG_SERIES_COUNT_x)</div><div class='xr-var-dtype'>int32</div><div class='xr-var-preview xr-preview'>...</div><input id='attrs-f56441a8-7759-4562-95a6-37c4d2604f16' class='xr-var-attrs-in' type='checkbox' disabled><label for='attrs-f56441a8-7759-4562-95a6-37c4d2604f16' title='Show/Hide attributes'><svg class='icon xr-icon-file-text2'><use xlink:href='#icon-file-text2'></use></svg></label><input id='data-45376752-f0d0-4aaa-9da2-ed192683c89a' class='xr-var-data-in' type='checkbox'><label for='data-45376752-f0d0-4aaa-9da2-ed192683c89a' title='Show/Hide data repr'><svg class='icon xr-icon-database'><use xlink:href='#icon-database'></use></svg></label><div class='xr-var-attrs'><dl class='xr-attrs'></dl></div><div class='xr-var-data'><pre>array([0, 0, 1, 1, 2])</pre></div></li><li class='xr-var-item'><div class='xr-var-name'><span>FLASH_EVENT_MAX_ENERGY</span></div><div class='xr-var-dims'>(FLASH_EVENT_MAX_ENERGY_x)</div><div class='xr-var-dtype'>float32</div><div class='xr-var-preview xr-preview'>...</div><input id='attrs-febde6e4-1c28-4599-9148-1a202b3f5d51' class='xr-var-attrs-in' type='checkbox' disabled><label for='attrs-febde6e4-1c28-4599-9148-1a202b3f5d51' title='Show/Hide attributes'><svg class='icon xr-icon-file-text2'><use xlink:href='#icon-file-text2'></use></svg></label><input id='data-ad36d8d3-3779-4861-988b-1f6449060553' class='xr-var-data-in' type='checkbox'><label for='data-ad36d8d3-3779-4861-988b-1f6449060553' title='Show/Hide data repr'><svg class='icon xr-icon-database'><use xlink:href='#icon-database'></use></svg></label><div class='xr-var-attrs'><dl class='xr-attrs'></dl></div><div class='xr-var-data'><pre>array([6.103880e-15, 1.525970e-14, 9.155820e-15, 2.441552e-14, 1.342854e-13],\n",
       "      dtype=float32)</pre></div></li><li class='xr-var-item'><div class='xr-var-name'><span>FLASH_EVENT_MIN_ENERGY</span></div><div class='xr-var-dims'>(FLASH_EVENT_MIN_ENERGY_x)</div><div class='xr-var-dtype'>float32</div><div class='xr-var-preview xr-preview'>...</div><input id='attrs-e8268ecd-68fe-4844-9b7a-4621af344561' class='xr-var-attrs-in' type='checkbox' disabled><label for='attrs-e8268ecd-68fe-4844-9b7a-4621af344561' title='Show/Hide attributes'><svg class='icon xr-icon-file-text2'><use xlink:href='#icon-file-text2'></use></svg></label><input id='data-28176bcb-d8a2-417e-a5b9-654101517551' class='xr-var-data-in' type='checkbox'><label for='data-28176bcb-d8a2-417e-a5b9-654101517551' title='Show/Hide data repr'><svg class='icon xr-icon-database'><use xlink:href='#icon-database'></use></svg></label><div class='xr-var-attrs'><dl class='xr-attrs'></dl></div><div class='xr-var-data'><pre>array([1.52597e-15, 1.52597e-15, 1.52597e-15, 1.52597e-15, 1.52597e-15],\n",
       "      dtype=float32)</pre></div></li><li class='xr-var-item'><div class='xr-var-name'><span>FLASH_GROUP_MAX_ENERGY</span></div><div class='xr-var-dims'>(FLASH_GROUP_MAX_ENERGY_x)</div><div class='xr-var-dtype'>float32</div><div class='xr-var-preview xr-preview'>...</div><input id='attrs-42a169c6-1df0-4fb6-8dc7-4ababcf8a772' class='xr-var-attrs-in' type='checkbox' disabled><label for='attrs-42a169c6-1df0-4fb6-8dc7-4ababcf8a772' title='Show/Hide attributes'><svg class='icon xr-icon-file-text2'><use xlink:href='#icon-file-text2'></use></svg></label><input id='data-40886ba7-6c02-47f3-b66b-56f4c0394c68' class='xr-var-data-in' type='checkbox'><label for='data-40886ba7-6c02-47f3-b66b-56f4c0394c68' title='Show/Hide data repr'><svg class='icon xr-icon-database'><use xlink:href='#icon-database'></use></svg></label><div class='xr-var-attrs'><dl class='xr-attrs'></dl></div><div class='xr-var-data'><pre>array([6.103880e-15, 2.899343e-14, 1.983761e-14, 1.144477e-13, 1.632788e-13],\n",
       "      dtype=float32)</pre></div></li><li class='xr-var-item'><div class='xr-var-name'><span>FLASH_GROUP_MEAN_ENERGY</span></div><div class='xr-var-dims'>(FLASH_GROUP_MEAN_ENERGY_x)</div><div class='xr-var-dtype'>float32</div><div class='xr-var-preview xr-preview'>...</div><input id='attrs-77ee345c-a29c-425f-8bd4-ce536fa597a4' class='xr-var-attrs-in' type='checkbox' disabled><label for='attrs-77ee345c-a29c-425f-8bd4-ce536fa597a4' title='Show/Hide attributes'><svg class='icon xr-icon-file-text2'><use xlink:href='#icon-file-text2'></use></svg></label><input id='data-3f81f5d5-6b63-4e99-8e8a-53e03fcaf382' class='xr-var-data-in' type='checkbox'><label for='data-3f81f5d5-6b63-4e99-8e8a-53e03fcaf382' title='Show/Hide data repr'><svg class='icon xr-icon-database'><use xlink:href='#icon-database'></use></svg></label><div class='xr-var-attrs'><dl class='xr-attrs'></dl></div><div class='xr-var-data'><pre>array([2.635766e-15, 8.510216e-15, 5.667888e-15, 1.534001e-14, 2.312840e-14],\n",
       "      dtype=float32)</pre></div></li><li class='xr-var-item'><div class='xr-var-name'><span>FLASH_GROUP_MIN_ENERGY</span></div><div class='xr-var-dims'>(FLASH_GROUP_MIN_ENERGY_x)</div><div class='xr-var-dtype'>float32</div><div class='xr-var-preview xr-preview'>...</div><input id='attrs-a8cad57f-70e3-4ac3-a526-18b846521b20' class='xr-var-attrs-in' type='checkbox' disabled><label for='attrs-a8cad57f-70e3-4ac3-a526-18b846521b20' title='Show/Hide attributes'><svg class='icon xr-icon-file-text2'><use xlink:href='#icon-file-text2'></use></svg></label><input id='data-e327bcf1-2e9f-41d5-87aa-00257c8d2c92' class='xr-var-data-in' type='checkbox'><label for='data-e327bcf1-2e9f-41d5-87aa-00257c8d2c92' title='Show/Hide data repr'><svg class='icon xr-icon-database'><use xlink:href='#icon-database'></use></svg></label><div class='xr-var-attrs'><dl class='xr-attrs'></dl></div><div class='xr-var-data'><pre>array([1.52597e-15, 1.52597e-15, 1.52597e-15, 1.52597e-15, 1.52597e-15],\n",
       "      dtype=float32)</pre></div></li></ul></div></li><li class='xr-section-item'><input id='section-3c98ab38-a985-49ae-8a67-692050d65c97' class='xr-section-summary-in' type='checkbox' disabled ><label for='section-3c98ab38-a985-49ae-8a67-692050d65c97' class='xr-section-summary'  title='Expand/collapse section'>Attributes: <span>(0)</span></label><div class='xr-section-inline-details'></div><div class='xr-section-details'><dl class='xr-attrs'></dl></div></li></ul></div></div>"
      ],
      "text/plain": [
       "<xarray.Dataset>\n",
       "Dimensions:                           (FLASH_1SIG_GROUP_COUNT_x: 5, FLASH_1SIG_SERIES_COUNT_x: 5, FLASH_2SIG_GROUP_COUNT_x: 5, FLASH_2SIG_SERIES_COUNT_x: 5, FLASH_3SIG_GROUP_COUNT_x: 5, FLASH_3SIG_SERIES_COUNT_x: 5, FLASH_AREA_x: 5, FLASH_DURATION_x: 5, FLASH_ENERGY_x: 5, FLASH_EVENT_COUNT_x: 5, FLASH_EVENT_MAX_ENERGY_x: 5, FLASH_EVENT_MAX_SEPARATION_x: 5, FLASH_EVENT_MIN_ENERGY_x: 5, FLASH_GROUP_COUNT_x: 5, FLASH_GROUP_MAX_ENERGY_x: 5, FLASH_GROUP_MAX_SEPARATION_x: 5, FLASH_GROUP_MEAN_ENERGY_x: 5, FLASH_GROUP_MIN_ENERGY_x: 5, FLASH_GROUP_TOTAL_SEPARATION_x: 5, FLASH_ID_x: 5, FLASH_LAT_x: 5, FLASH_LCFA_CDATE_x: 5, FLASH_LCFA_TSTAMP_x: 5, FLASH_LON_x: 5, FLASH_SERIES_COUNT_x: 5, FLASH_TIME_OFFSET_OF_FIRST_EVENT_x: 5, FLASH_TIME_OFFSET_OF_LAST_EVENT_x: 5)\n",
       "Dimensions without coordinates: FLASH_1SIG_GROUP_COUNT_x, FLASH_1SIG_SERIES_COUNT_x, FLASH_2SIG_GROUP_COUNT_x, FLASH_2SIG_SERIES_COUNT_x, FLASH_3SIG_GROUP_COUNT_x, FLASH_3SIG_SERIES_COUNT_x, FLASH_AREA_x, FLASH_DURATION_x, FLASH_ENERGY_x, FLASH_EVENT_COUNT_x, FLASH_EVENT_MAX_ENERGY_x, FLASH_EVENT_MAX_SEPARATION_x, FLASH_EVENT_MIN_ENERGY_x, FLASH_GROUP_COUNT_x, FLASH_GROUP_MAX_ENERGY_x, FLASH_GROUP_MAX_SEPARATION_x, FLASH_GROUP_MEAN_ENERGY_x, FLASH_GROUP_MIN_ENERGY_x, FLASH_GROUP_TOTAL_SEPARATION_x, FLASH_ID_x, FLASH_LAT_x, FLASH_LCFA_CDATE_x, FLASH_LCFA_TSTAMP_x, FLASH_LON_x, FLASH_SERIES_COUNT_x, FLASH_TIME_OFFSET_OF_FIRST_EVENT_x, FLASH_TIME_OFFSET_OF_LAST_EVENT_x\n",
       "Data variables:\n",
       "    FLASH_ID                          (FLASH_ID_x) int32 ...\n",
       "    FLASH_LCFA_CDATE                  (FLASH_LCFA_CDATE_x) int32 ...\n",
       "    FLASH_LCFA_TSTAMP                 (FLASH_LCFA_TSTAMP_x) int32 ...\n",
       "    FLASH_TIME_OFFSET_OF_FIRST_EVENT  (FLASH_TIME_OFFSET_OF_FIRST_EVENT_x) float32 ...\n",
       "    FLASH_TIME_OFFSET_OF_LAST_EVENT   (FLASH_TIME_OFFSET_OF_LAST_EVENT_x) float32 ...\n",
       "    FLASH_LAT                         (FLASH_LAT_x) float32 ...\n",
       "    FLASH_LON                         (FLASH_LON_x) float32 ...\n",
       "    FLASH_AREA                        (FLASH_AREA_x) float32 ...\n",
       "    FLASH_ENERGY                      (FLASH_ENERGY_x) float32 ...\n",
       "    FLASH_GROUP_COUNT                 (FLASH_GROUP_COUNT_x) int32 ...\n",
       "    FLASH_SERIES_COUNT                (FLASH_SERIES_COUNT_x) int32 ...\n",
       "    FLASH_EVENT_COUNT                 (FLASH_EVENT_COUNT_x) int32 ...\n",
       "    FLASH_DURATION                    (FLASH_DURATION_x) float32 ...\n",
       "    FLASH_GROUP_MAX_SEPARATION        (FLASH_GROUP_MAX_SEPARATION_x) float32 ...\n",
       "    FLASH_GROUP_TOTAL_SEPARATION      (FLASH_GROUP_TOTAL_SEPARATION_x) float32 ...\n",
       "    FLASH_EVENT_MAX_SEPARATION        (FLASH_EVENT_MAX_SEPARATION_x) float32 ...\n",
       "    FLASH_1SIG_GROUP_COUNT            (FLASH_1SIG_GROUP_COUNT_x) int32 ...\n",
       "    FLASH_2SIG_GROUP_COUNT            (FLASH_2SIG_GROUP_COUNT_x) int32 ...\n",
       "    FLASH_3SIG_GROUP_COUNT            (FLASH_3SIG_GROUP_COUNT_x) int32 ...\n",
       "    FLASH_1SIG_SERIES_COUNT           (FLASH_1SIG_SERIES_COUNT_x) int32 ...\n",
       "    FLASH_2SIG_SERIES_COUNT           (FLASH_2SIG_SERIES_COUNT_x) int32 ...\n",
       "    FLASH_3SIG_SERIES_COUNT           (FLASH_3SIG_SERIES_COUNT_x) int32 ...\n",
       "    FLASH_EVENT_MAX_ENERGY            (FLASH_EVENT_MAX_ENERGY_x) float32 ...\n",
       "    FLASH_EVENT_MIN_ENERGY            (FLASH_EVENT_MIN_ENERGY_x) float32 ...\n",
       "    FLASH_GROUP_MAX_ENERGY            (FLASH_GROUP_MAX_ENERGY_x) float32 ...\n",
       "    FLASH_GROUP_MEAN_ENERGY           (FLASH_GROUP_MEAN_ENERGY_x) float32 ...\n",
       "    FLASH_GROUP_MIN_ENERGY            (FLASH_GROUP_MIN_ENERGY_x) float32 ..."
      ]
     },
     "execution_count": 4,
     "metadata": {},
     "output_type": "execute_result"
    }
   ],
   "source": [
    "#Exploring Data with Head Method#\n",
    "#Call the head method on L to print the first several rows of the data\n",
    "L.head()"
   ]
  },
  {
   "cell_type": "markdown",
   "metadata": {},
   "source": [
    "## 1.6 Data Definition <a id='1.6_Data_Definition'></a>"
   ]
  },
  {
   "cell_type": "markdown",
   "metadata": {},
   "source": [
    "### 1.6.1 Understanding Flash Parameters <a id='1.6.1_Understanding_Flash_Parameters'></a>"
   ]
  },
  {
   "cell_type": "markdown",
   "metadata": {},
   "source": [
    "Contents of glm_lightning_db_final.nc\n",
    "\n",
    "FLASH_ID\t:\tUnique\tidentifier\tof\tlightning\tflash\t\t\t\t\t\t\t\t\t\n",
    "FLASH_LCFA_CDATE\t:\tGLM\tdata\tpacket\tdate\tstamp\tYYYYDOY\t(DOY\tis\tday\tof\tyear)\t\t\t\n",
    "FLASH_LCFA_TSTAMP\t:\tGLM\tdata\tpacket\ttime\tstamp\tin\tUTC\tHHMMSS\t\t\t\t\t\t\n",
    "FLASH_TIME_OFFSET_OF_FIRST_EVENT\t:\tStarting\ttime\tof\tflash\tin\tseconds\tafter\tLCFA_TSTAMP\t\t\t\t\t\t\n",
    "FLASH_TIME_OFFSET_OF_LAST_EVENT\t:\tEnding\ttime\tof\tflash\tin\tseconds\tafter\tLCFA_TSTAMP\t\t\t\t\t\t\n",
    "FLASH_LAT\t:\tFlash\tlatitude\t\t\t\t\t\t\t\t\t\t\t\t\n",
    "FLASH_LON\t:\tFlash\tlongitude\t\t\t\t\t\t\t\t\t\t\t\t\n",
    "FLASH_AREA\t:\tFlash\tilluminated\tarea\tin\tm^2\t\t\t\t\t\t\t\t\t\n",
    "FLASH_ENERGY\t:\tFlash\ttotal\toptical\tenergy\tin\tJ\t\t\t\t\t\t\t\t\n",
    "FLASH_GROUP_COUNT\t:\tNumber\tof\toptical\tpulses\t(termed\t“groups”)\tin\tthe\tlash\t\t\t\t\t\n",
    "FLASH_SERIES_COUNT\t:\tNumber\tof\tdistinct\tperiods\tof\tillumination\t(termed\t“series”)\tin\tthe\tflash\t\t\t\n",
    "FLASH_EVENT_COUNT\t:\tNumber\tof\tunique\tinstrument\tilluminated\tpiels\t(termed\t“events”)\tin\tthe\tflash\t\t\t\n",
    "FLASH_DURATION\t:\tFlash\tduration\tin\tseconds\t\t\t\t\t\t\t\t\t\t\n",
    "FLASH_GROUP_MAX_SEPARATION\t:\tMaximum\tseparation\tof\tgroups\tin\tthe\tflash\tin\tkm\t\t\t\t\t\n",
    "FLASH_GROUP_TOTAL_SEPARATION\t:\tTotal\tseparation\tof\tall\tline\tsegments\tconnecting\tgroups\tin\tthe\tflash\tin\tkm\t\n",
    "FLASH_EVENT_MAX_SEPARATION\t:\tMaximum\tseparation\tof\tevents\tin\tthe\tflash\tin\tkm\t\t\t\t\t\n",
    "FLASH_1SIG_GROUP_COUNT\t:\tNumber\tof\tbright\tgroups\tin\tthe\tflash\tat\tthe\tmean+1*sigma\t(standard\tdeviation)\tenergy\tlevel\n",
    "FLASH_2SIG_GROUP_COUNT\t:\tNumber\tof\tbright\tgroups\tin\tthe\tflash\tat\tthe\t2-sigma\tenergy\tlevel\t\t\n",
    "FLASH_3SIG_GROUP_COUNT\t:\tNumber\tof\tbright\tgroups\tin\tthe\tflash\tat\tthe\t3-sigma\tenergy\tlevel\t\t\n",
    "FLASH_1SIG_SERIES_COUNT\t:\tNumber\tof\tseries\tin\tthe\tflash\twith\t1-sigma\tbright\tgroups\t\t\t\t\n",
    "FLASH_2SIG_SERIES_COUNT\t:\tNumber\tof\tseries\tin\tthe\tflash\twith\t2-sigma\tbright\tgroups\t\t\t\t\n",
    "FLASH_3SIG_SERIES_COUNT\t:\tNumber\tof\tseries\tin\tthe\tflash\twith\t3-sigma\tbright\tgroups\t\t\t\t\n",
    "FLASH_EVENT_MAX_ENERGY\t:\tOptical\tenergy\tof\tbrightest\tevent\t(illuminated\tpixel)\tin\tthe\tflash\tin\tJ\t\t\n",
    "FLASH_EVENT_MIN_ENERGY\t:\tOptical\tenergy\tof\tdimmest\tevent\t(illuminated\tpixel)\tin\tthe\tflash\tin\tJ\t\t\n",
    "FLASH_GROUP_MAX_ENERGY\t:\tOptical\tenergy\tof\tbrightest\tgroup\t(i.e.,\tpulse)\tin\tthe\tflash\tin\tJ\t\t\n",
    "FLASH_GROUP_MEAN_ENERGY\t:\tMean\toptical\tenergy\tof\tall\tgroups\tin\tthe\tflash\tin\tJ\t\t\t\n",
    "FLASH_GROUP_MIN_ENERGY\t:\tOptical\tenergy\tof\tdimmest\tgroup\tin\tthe\tflash\tin\tJ\t\t\t\t\n",
    "\t\t\t\t\t\t\t\t\t\t\t\t\t\t\t\t\t\t\t\t\t\t\t\t\t\t\t"
   ]
  },
  {
   "cell_type": "markdown",
   "metadata": {},
   "source": [
    "Contents of glm_dayglint_db_final.nc\n",
    "\n",
    "**NOTE: the energy / area parameters have different units in this file compared to the other two. Be careful!**\n",
    "\n",
    "FLASH_ID\t:\tUnique identifier of lightning flash\t\t\t\n",
    "FLASH_LCFA_CDATE\t:\tGLM data packet date stamp YYYYDOY (DOY is day of year)\t\t\t\n",
    "FLASH_LCFA_TSTAMP\t:\tGLM data packet time stamp in UTC HHMMSS\t\t\t\n",
    "FLASH_TIME_OFFSET_OF_FIRST_EVENT\t:\tStarting time of flash in seconds after LCFA_TSTAMP\t\t\t\n",
    "FLASH_TIME_OFFSET_OF_LAST_EVENT\t:\tEnding time of flash in seconds after LCFA_TSTAMP\t\t\t\n",
    "FLASH_LAT\t:\tFlash latitude\t\t\t\n",
    "FLASH_LON\t:\tFlash longitude\t\t\t\n",
    "FLASH_AREA\t:\tFlash illuminated area in km^2\t\t\t\n",
    "FLASH_ENERGY\t:\tFlash total optical energy in fJ\t\t\t\n",
    "FLASH_GROUP_COUNT\t:\tNumber of optical pulses (termed “groups”) in the lash\t\t\t\n",
    "FLASH_SERIES_COUNT\t:\tNumber of distinct periods of illumination (termed “series”) in the flash\t\t\t\n",
    "FLASH_EVENT_COUNT\t:\tNumber of unique instrument illuminated piels (termed “events”) in the flash\t\t\t\n",
    "FLASH_DURATION\t:\tFlash duration in seconds\t\t\t\n",
    "FLASH_GROUP_MAX_SEPARATION\t:\tMaximum separation of groups in the flash in km\t\t\t\n",
    "FLASH_GROUP_TOTAL_SEPARATION\t:\tTotal separation of all line segments connecting groups in the flash in km\t\t\t\n",
    "FLASH_EVENT_MAX_SEPARATION\t:\tMaximum separation of events in the flash in km\t\t\t\n",
    "FLASH_1SIG_GROUP_COUNT\t:\tNumber of bright groups in the flash at the mean+1*sigma (standard deviation) energy level\t\t\t\n",
    "FLASH_2SIG_GROUP_COUNT\t:\tNumber of bright groups in the flash at the 2-sigma energy level\t\t\t\n",
    "FLASH_3SIG_GROUP_COUNT\t:\tNumber of bright groups in the flash at the 3-sigma energy level\t\t\t\n",
    "FLASH_1SIG_SERIES_COUNT\t:\tNumber of series in the flash with 1-sigma bright groups\t\t\t\n",
    "FLASH_2SIG_SERIES_COUNT\t:\tNumber of series in the flash with 2-sigma bright groups\t\t\t\n",
    "FLASH_3SIG_SERIES_COUNT\t:\tNumber of series in the flash with 3-sigma bright groups\t\t\t\n",
    "FLASH_EVENT_MAX_ENERGY\t:\tOptical energy of brightest event (illuminated pixel) in the flash in fJ\t\t\t\n",
    "FLASH_EVENT_MIN_ENERGY\t:\tOptical energy of dimmest event (illuminated pixel) in the flash in fJ\t\t\t\n",
    "FLASH_GROUP_MAX_ENERGY\t:\tOptical energy of brightest group (i.e., pulse) in the flash in fJ\t\t\t\n",
    "FLASH_GROUP_MEAN_ENERGY\t:\tMean optical energy of all groups in the flash in fJ\t\t\t\n",
    "FLASH_GROUP_MIN_ENERGY\t:\tOptical energy of dimmest group in the flash in fJ\t\t\t\n"
   ]
  },
  {
   "cell_type": "markdown",
   "metadata": {},
   "source": [
    "Contents of glm_both_20180901.nc\n",
    "\n",
    "FLASH_ID\t:\tUnique identifier of lightning flash\t\t\t\t\n",
    "FLASH_LCFA_CDATE\t:\tGLM data packet date stamp YYYYDOY (DOY is day of year)\t\t\t\t\n",
    "FLASH_LCFA_TSTAMP\t:\tGLM data packet time stamp in UTC HHMMSS\t\t\t\t\n",
    "FLASH_TIME_OFFSET_OF_FIRST_EVENT\t:\tStarting time of flash in seconds after LCFA_TSTAMP\t\t\t\t\n",
    "FLASH_TIME_OFFSET_OF_LAST_EVENT\t:\tEnding time of flash in seconds after LCFA_TSTAMP\t\t\t\t\n",
    "FLASH_LAT\t:\tFlash latitude\t\t\t\t\n",
    "FLASH_LON\t:\tFlash longitude\t\t\t\t\n",
    "FLASH_AREA\t:\tFlash illuminated area in m^2\t\t\t\t\n",
    "FLASH_ENERGY\t:\tFlash total optical energy in J\t\t\t\t\n",
    "FLASH_GROUP_COUNT\t:\tNumber of optical pulses (termed “groups”) in the lash\t\t\t\t\n",
    "FLASH_SERIES_COUNT\t:\tNumber of distinct periods of illumination (termed “series”) in the flash\t\t\t\t\n",
    "FLASH_EVENT_COUNT\t:\tNumber of unique instrument illuminated piels (termed “events”) in the flash\t\t\t\t\n",
    "FLASH_DURATION\t:\tFlash duration in seconds\t\t\t\t\n",
    "FLASH_GROUP_MAX_SEPARATION\t:\tMaximum separation of groups in the flash in km\t\t\t\t\n",
    "FLASH_GROUP_TOTAL_SEPARATION\t:\tTotal separation of all line segments connecting groups in the flash in km\t\t\t\t\n",
    "FLASH_EVENT_MAX_SEPARATION\t:\tMaximum separation of events in the flash in km\t\t\t\t\n",
    "FLASH_1SIG_GROUP_COUNT\t:\tNumber of bright groups in the flash at the mean+1*sigma (standard deviation) energy level\t\t\t\t\n",
    "FLASH_2SIG_GROUP_COUNT\t:\tNumber of bright groups in the flash at the 2-sigma energy level\t\t\t\t\n",
    "FLASH_3SIG_GROUP_COUNT\t:\tNumber of bright groups in the flash at the 3-sigma energy level\t\t\t\t\n",
    "FLASH_1SIG_SERIES_COUNT\t:\tNumber of series in the flash with 1-sigma bright groups\t\t\t\t\n",
    "FLASH_2SIG_SERIES_COUNT\t:\tNumber of series in the flash with 2-sigma bright groups\t\t\t\t\n",
    "FLASH_3SIG_SERIES_COUNT\t:\tNumber of series in the flash with 3-sigma bright groups\t\t\t\t\n",
    "FLASH_EVENT_MAX_ENERGY\t:\tOptical energy of brightest event (illuminated pixel) in the flash in J\t\t\t\t\n",
    "FLASH_EVENT_MIN_ENERGY\t:\tOptical energy of dimmest event (illuminated pixel) in the flash in J\t\t\t\t\n",
    "FLASH_GROUP_MAX_ENERGY\t:\tOptical energy of brightest group (i.e., pulse) in the flash in J\t\t\t\t\n",
    "FLASH_GROUP_MEAN_ENERGY\t:\tMean optical energy of all groups in the flash in J\t\t\t\t\n",
    "FLASH_GROUP_MIN_ENERGY\t:\tOptical energy of dimmest group in the flash in J\t\t\t\t"
   ]
  },
  {
   "cell_type": "code",
   "execution_count": 5,
   "metadata": {},
   "outputs": [
    {
     "name": "stdout",
     "output_type": "stream",
     "text": [
      "29000001\n",
      "FLASH_LAT_x\n",
      "0          -21.547247\n",
      "1          -18.311792\n",
      "2           15.747572\n",
      "3          -24.390753\n",
      "4           37.776203\n",
      "              ...    \n",
      "28999996    31.498873\n",
      "28999997    25.598253\n",
      "28999998    36.254230\n",
      "28999999    16.217833\n",
      "29000000    30.770313\n",
      "Name: FLASH_LAT, Length: 29000001, dtype: float32\n"
     ]
    }
   ],
   "source": [
    "#Getting feel for data\n",
    "# about 29 mm records\n",
    "\n",
    "# L.info()\n",
    "\n",
    "# G.info()\n",
    "# GD.info()\n",
    "# GN.info()\n",
    "\n",
    "# B20180901.info()\n",
    "# B20180930.info()\n",
    "# B20180930.info()\n",
    "\n",
    "#test = L['FLASH_LAT'].data\n",
    "#print(test)\n",
    "\n",
    "#print(L)\n",
    "\n",
    "#key properties for DataArray\n",
    "#L.values\n",
    "#L.dims\n",
    "#L.attrs\n",
    "\n",
    "#L['FLASH_LAT'].data.T\n",
    "\n",
    "#print(len(L['FLASH_LAT']))\n",
    "# 29,000,001\n",
    "\n",
    "#print(len(L['FLASH_ID']))\n",
    "# 29,000,001\n",
    "\n",
    "print(len(L['FLASH_AREA']))\n",
    "# 29000001\n",
    "\n",
    "series= L['FLASH_LAT'].to_series()\n",
    "print(series)\n",
    "\n"
   ]
  },
  {
   "cell_type": "code",
   "execution_count": 6,
   "metadata": {},
   "outputs": [
    {
     "data": {
      "text/html": [
       "<div>\n",
       "<style scoped>\n",
       "    .dataframe tbody tr th:only-of-type {\n",
       "        vertical-align: middle;\n",
       "    }\n",
       "\n",
       "    .dataframe tbody tr th {\n",
       "        vertical-align: top;\n",
       "    }\n",
       "\n",
       "    .dataframe thead th {\n",
       "        text-align: right;\n",
       "    }\n",
       "</style>\n",
       "<table border=\"1\" class=\"dataframe\">\n",
       "  <thead>\n",
       "    <tr style=\"text-align: right;\">\n",
       "      <th></th>\n",
       "      <th>FLASH_LAT</th>\n",
       "    </tr>\n",
       "    <tr>\n",
       "      <th>FLASH_LAT_x</th>\n",
       "      <th></th>\n",
       "    </tr>\n",
       "  </thead>\n",
       "  <tbody>\n",
       "    <tr>\n",
       "      <th>0</th>\n",
       "      <td>-21.547247</td>\n",
       "    </tr>\n",
       "    <tr>\n",
       "      <th>1</th>\n",
       "      <td>-18.311792</td>\n",
       "    </tr>\n",
       "    <tr>\n",
       "      <th>2</th>\n",
       "      <td>15.747572</td>\n",
       "    </tr>\n",
       "    <tr>\n",
       "      <th>3</th>\n",
       "      <td>-24.390753</td>\n",
       "    </tr>\n",
       "    <tr>\n",
       "      <th>4</th>\n",
       "      <td>37.776203</td>\n",
       "    </tr>\n",
       "    <tr>\n",
       "      <th>...</th>\n",
       "      <td>...</td>\n",
       "    </tr>\n",
       "    <tr>\n",
       "      <th>28999996</th>\n",
       "      <td>31.498873</td>\n",
       "    </tr>\n",
       "    <tr>\n",
       "      <th>28999997</th>\n",
       "      <td>25.598253</td>\n",
       "    </tr>\n",
       "    <tr>\n",
       "      <th>28999998</th>\n",
       "      <td>36.254230</td>\n",
       "    </tr>\n",
       "    <tr>\n",
       "      <th>28999999</th>\n",
       "      <td>16.217833</td>\n",
       "    </tr>\n",
       "    <tr>\n",
       "      <th>29000000</th>\n",
       "      <td>30.770313</td>\n",
       "    </tr>\n",
       "  </tbody>\n",
       "</table>\n",
       "<p>29000001 rows × 1 columns</p>\n",
       "</div>"
      ],
      "text/plain": [
       "             FLASH_LAT\n",
       "FLASH_LAT_x           \n",
       "0           -21.547247\n",
       "1           -18.311792\n",
       "2            15.747572\n",
       "3           -24.390753\n",
       "4            37.776203\n",
       "...                ...\n",
       "28999996     31.498873\n",
       "28999997     25.598253\n",
       "28999998     36.254230\n",
       "28999999     16.217833\n",
       "29000000     30.770313\n",
       "\n",
       "[29000001 rows x 1 columns]"
      ]
     },
     "execution_count": 6,
     "metadata": {},
     "output_type": "execute_result"
    }
   ],
   "source": [
    "dftest = L['FLASH_LAT'].to_dataframe()\n",
    "dftest\n"
   ]
  },
  {
   "cell_type": "code",
   "execution_count": 7,
   "metadata": {},
   "outputs": [
    {
     "data": {
      "text/html": [
       "<div><svg style=\"position: absolute; width: 0; height: 0; overflow: hidden\">\n",
       "<defs>\n",
       "<symbol id=\"icon-database\" viewBox=\"0 0 32 32\">\n",
       "<path d=\"M16 0c-8.837 0-16 2.239-16 5v4c0 2.761 7.163 5 16 5s16-2.239 16-5v-4c0-2.761-7.163-5-16-5z\"></path>\n",
       "<path d=\"M16 17c-8.837 0-16-2.239-16-5v6c0 2.761 7.163 5 16 5s16-2.239 16-5v-6c0 2.761-7.163 5-16 5z\"></path>\n",
       "<path d=\"M16 26c-8.837 0-16-2.239-16-5v6c0 2.761 7.163 5 16 5s16-2.239 16-5v-6c0 2.761-7.163 5-16 5z\"></path>\n",
       "</symbol>\n",
       "<symbol id=\"icon-file-text2\" viewBox=\"0 0 32 32\">\n",
       "<path d=\"M28.681 7.159c-0.694-0.947-1.662-2.053-2.724-3.116s-2.169-2.030-3.116-2.724c-1.612-1.182-2.393-1.319-2.841-1.319h-15.5c-1.378 0-2.5 1.121-2.5 2.5v27c0 1.378 1.122 2.5 2.5 2.5h23c1.378 0 2.5-1.122 2.5-2.5v-19.5c0-0.448-0.137-1.23-1.319-2.841zM24.543 5.457c0.959 0.959 1.712 1.825 2.268 2.543h-4.811v-4.811c0.718 0.556 1.584 1.309 2.543 2.268zM28 29.5c0 0.271-0.229 0.5-0.5 0.5h-23c-0.271 0-0.5-0.229-0.5-0.5v-27c0-0.271 0.229-0.5 0.5-0.5 0 0 15.499-0 15.5 0v7c0 0.552 0.448 1 1 1h7v19.5z\"></path>\n",
       "<path d=\"M23 26h-14c-0.552 0-1-0.448-1-1s0.448-1 1-1h14c0.552 0 1 0.448 1 1s-0.448 1-1 1z\"></path>\n",
       "<path d=\"M23 22h-14c-0.552 0-1-0.448-1-1s0.448-1 1-1h14c0.552 0 1 0.448 1 1s-0.448 1-1 1z\"></path>\n",
       "<path d=\"M23 18h-14c-0.552 0-1-0.448-1-1s0.448-1 1-1h14c0.552 0 1 0.448 1 1s-0.448 1-1 1z\"></path>\n",
       "</symbol>\n",
       "</defs>\n",
       "</svg>\n",
       "<style>/* CSS stylesheet for displaying xarray objects in jupyterlab.\n",
       " *\n",
       " */\n",
       "\n",
       ":root {\n",
       "  --xr-font-color0: var(--jp-content-font-color0, rgba(0, 0, 0, 1));\n",
       "  --xr-font-color2: var(--jp-content-font-color2, rgba(0, 0, 0, 0.54));\n",
       "  --xr-font-color3: var(--jp-content-font-color3, rgba(0, 0, 0, 0.38));\n",
       "  --xr-border-color: var(--jp-border-color2, #e0e0e0);\n",
       "  --xr-disabled-color: var(--jp-layout-color3, #bdbdbd);\n",
       "  --xr-background-color: var(--jp-layout-color0, white);\n",
       "  --xr-background-color-row-even: var(--jp-layout-color1, white);\n",
       "  --xr-background-color-row-odd: var(--jp-layout-color2, #eeeeee);\n",
       "}\n",
       "\n",
       "html[theme=dark],\n",
       "body.vscode-dark {\n",
       "  --xr-font-color0: rgba(255, 255, 255, 1);\n",
       "  --xr-font-color2: rgba(255, 255, 255, 0.54);\n",
       "  --xr-font-color3: rgba(255, 255, 255, 0.38);\n",
       "  --xr-border-color: #1F1F1F;\n",
       "  --xr-disabled-color: #515151;\n",
       "  --xr-background-color: #111111;\n",
       "  --xr-background-color-row-even: #111111;\n",
       "  --xr-background-color-row-odd: #313131;\n",
       "}\n",
       "\n",
       ".xr-wrap {\n",
       "  display: block;\n",
       "  min-width: 300px;\n",
       "  max-width: 700px;\n",
       "}\n",
       "\n",
       ".xr-text-repr-fallback {\n",
       "  /* fallback to plain text repr when CSS is not injected (untrusted notebook) */\n",
       "  display: none;\n",
       "}\n",
       "\n",
       ".xr-header {\n",
       "  padding-top: 6px;\n",
       "  padding-bottom: 6px;\n",
       "  margin-bottom: 4px;\n",
       "  border-bottom: solid 1px var(--xr-border-color);\n",
       "}\n",
       "\n",
       ".xr-header > div,\n",
       ".xr-header > ul {\n",
       "  display: inline;\n",
       "  margin-top: 0;\n",
       "  margin-bottom: 0;\n",
       "}\n",
       "\n",
       ".xr-obj-type,\n",
       ".xr-array-name {\n",
       "  margin-left: 2px;\n",
       "  margin-right: 10px;\n",
       "}\n",
       "\n",
       ".xr-obj-type {\n",
       "  color: var(--xr-font-color2);\n",
       "}\n",
       "\n",
       ".xr-sections {\n",
       "  padding-left: 0 !important;\n",
       "  display: grid;\n",
       "  grid-template-columns: 150px auto auto 1fr 20px 20px;\n",
       "}\n",
       "\n",
       ".xr-section-item {\n",
       "  display: contents;\n",
       "}\n",
       "\n",
       ".xr-section-item input {\n",
       "  display: none;\n",
       "}\n",
       "\n",
       ".xr-section-item input + label {\n",
       "  color: var(--xr-disabled-color);\n",
       "}\n",
       "\n",
       ".xr-section-item input:enabled + label {\n",
       "  cursor: pointer;\n",
       "  color: var(--xr-font-color2);\n",
       "}\n",
       "\n",
       ".xr-section-item input:enabled + label:hover {\n",
       "  color: var(--xr-font-color0);\n",
       "}\n",
       "\n",
       ".xr-section-summary {\n",
       "  grid-column: 1;\n",
       "  color: var(--xr-font-color2);\n",
       "  font-weight: 500;\n",
       "}\n",
       "\n",
       ".xr-section-summary > span {\n",
       "  display: inline-block;\n",
       "  padding-left: 0.5em;\n",
       "}\n",
       "\n",
       ".xr-section-summary-in:disabled + label {\n",
       "  color: var(--xr-font-color2);\n",
       "}\n",
       "\n",
       ".xr-section-summary-in + label:before {\n",
       "  display: inline-block;\n",
       "  content: '►';\n",
       "  font-size: 11px;\n",
       "  width: 15px;\n",
       "  text-align: center;\n",
       "}\n",
       "\n",
       ".xr-section-summary-in:disabled + label:before {\n",
       "  color: var(--xr-disabled-color);\n",
       "}\n",
       "\n",
       ".xr-section-summary-in:checked + label:before {\n",
       "  content: '▼';\n",
       "}\n",
       "\n",
       ".xr-section-summary-in:checked + label > span {\n",
       "  display: none;\n",
       "}\n",
       "\n",
       ".xr-section-summary,\n",
       ".xr-section-inline-details {\n",
       "  padding-top: 4px;\n",
       "  padding-bottom: 4px;\n",
       "}\n",
       "\n",
       ".xr-section-inline-details {\n",
       "  grid-column: 2 / -1;\n",
       "}\n",
       "\n",
       ".xr-section-details {\n",
       "  display: none;\n",
       "  grid-column: 1 / -1;\n",
       "  margin-bottom: 5px;\n",
       "}\n",
       "\n",
       ".xr-section-summary-in:checked ~ .xr-section-details {\n",
       "  display: contents;\n",
       "}\n",
       "\n",
       ".xr-array-wrap {\n",
       "  grid-column: 1 / -1;\n",
       "  display: grid;\n",
       "  grid-template-columns: 20px auto;\n",
       "}\n",
       "\n",
       ".xr-array-wrap > label {\n",
       "  grid-column: 1;\n",
       "  vertical-align: top;\n",
       "}\n",
       "\n",
       ".xr-preview {\n",
       "  color: var(--xr-font-color3);\n",
       "}\n",
       "\n",
       ".xr-array-preview,\n",
       ".xr-array-data {\n",
       "  padding: 0 5px !important;\n",
       "  grid-column: 2;\n",
       "}\n",
       "\n",
       ".xr-array-data,\n",
       ".xr-array-in:checked ~ .xr-array-preview {\n",
       "  display: none;\n",
       "}\n",
       "\n",
       ".xr-array-in:checked ~ .xr-array-data,\n",
       ".xr-array-preview {\n",
       "  display: inline-block;\n",
       "}\n",
       "\n",
       ".xr-dim-list {\n",
       "  display: inline-block !important;\n",
       "  list-style: none;\n",
       "  padding: 0 !important;\n",
       "  margin: 0;\n",
       "}\n",
       "\n",
       ".xr-dim-list li {\n",
       "  display: inline-block;\n",
       "  padding: 0;\n",
       "  margin: 0;\n",
       "}\n",
       "\n",
       ".xr-dim-list:before {\n",
       "  content: '(';\n",
       "}\n",
       "\n",
       ".xr-dim-list:after {\n",
       "  content: ')';\n",
       "}\n",
       "\n",
       ".xr-dim-list li:not(:last-child):after {\n",
       "  content: ',';\n",
       "  padding-right: 5px;\n",
       "}\n",
       "\n",
       ".xr-has-index {\n",
       "  font-weight: bold;\n",
       "}\n",
       "\n",
       ".xr-var-list,\n",
       ".xr-var-item {\n",
       "  display: contents;\n",
       "}\n",
       "\n",
       ".xr-var-item > div,\n",
       ".xr-var-item label,\n",
       ".xr-var-item > .xr-var-name span {\n",
       "  background-color: var(--xr-background-color-row-even);\n",
       "  margin-bottom: 0;\n",
       "}\n",
       "\n",
       ".xr-var-item > .xr-var-name:hover span {\n",
       "  padding-right: 5px;\n",
       "}\n",
       "\n",
       ".xr-var-list > li:nth-child(odd) > div,\n",
       ".xr-var-list > li:nth-child(odd) > label,\n",
       ".xr-var-list > li:nth-child(odd) > .xr-var-name span {\n",
       "  background-color: var(--xr-background-color-row-odd);\n",
       "}\n",
       "\n",
       ".xr-var-name {\n",
       "  grid-column: 1;\n",
       "}\n",
       "\n",
       ".xr-var-dims {\n",
       "  grid-column: 2;\n",
       "}\n",
       "\n",
       ".xr-var-dtype {\n",
       "  grid-column: 3;\n",
       "  text-align: right;\n",
       "  color: var(--xr-font-color2);\n",
       "}\n",
       "\n",
       ".xr-var-preview {\n",
       "  grid-column: 4;\n",
       "}\n",
       "\n",
       ".xr-var-name,\n",
       ".xr-var-dims,\n",
       ".xr-var-dtype,\n",
       ".xr-preview,\n",
       ".xr-attrs dt {\n",
       "  white-space: nowrap;\n",
       "  overflow: hidden;\n",
       "  text-overflow: ellipsis;\n",
       "  padding-right: 10px;\n",
       "}\n",
       "\n",
       ".xr-var-name:hover,\n",
       ".xr-var-dims:hover,\n",
       ".xr-var-dtype:hover,\n",
       ".xr-attrs dt:hover {\n",
       "  overflow: visible;\n",
       "  width: auto;\n",
       "  z-index: 1;\n",
       "}\n",
       "\n",
       ".xr-var-attrs,\n",
       ".xr-var-data {\n",
       "  display: none;\n",
       "  background-color: var(--xr-background-color) !important;\n",
       "  padding-bottom: 5px !important;\n",
       "}\n",
       "\n",
       ".xr-var-attrs-in:checked ~ .xr-var-attrs,\n",
       ".xr-var-data-in:checked ~ .xr-var-data {\n",
       "  display: block;\n",
       "}\n",
       "\n",
       ".xr-var-data > table {\n",
       "  float: right;\n",
       "}\n",
       "\n",
       ".xr-var-name span,\n",
       ".xr-var-data,\n",
       ".xr-attrs {\n",
       "  padding-left: 25px !important;\n",
       "}\n",
       "\n",
       ".xr-attrs,\n",
       ".xr-var-attrs,\n",
       ".xr-var-data {\n",
       "  grid-column: 1 / -1;\n",
       "}\n",
       "\n",
       "dl.xr-attrs {\n",
       "  padding: 0;\n",
       "  margin: 0;\n",
       "  display: grid;\n",
       "  grid-template-columns: 125px auto;\n",
       "}\n",
       "\n",
       ".xr-attrs dt,\n",
       ".xr-attrs dd {\n",
       "  padding: 0;\n",
       "  margin: 0;\n",
       "  float: left;\n",
       "  padding-right: 10px;\n",
       "  width: auto;\n",
       "}\n",
       "\n",
       ".xr-attrs dt {\n",
       "  font-weight: normal;\n",
       "  grid-column: 1;\n",
       "}\n",
       "\n",
       ".xr-attrs dt:hover span {\n",
       "  display: inline-block;\n",
       "  background: var(--xr-background-color);\n",
       "  padding-right: 10px;\n",
       "}\n",
       "\n",
       ".xr-attrs dd {\n",
       "  grid-column: 2;\n",
       "  white-space: pre-wrap;\n",
       "  word-break: break-all;\n",
       "}\n",
       "\n",
       ".xr-icon-database,\n",
       ".xr-icon-file-text2 {\n",
       "  display: inline-block;\n",
       "  vertical-align: middle;\n",
       "  width: 1em;\n",
       "  height: 1.5em !important;\n",
       "  stroke-width: 0;\n",
       "  stroke: currentColor;\n",
       "  fill: currentColor;\n",
       "}\n",
       "</style><pre class='xr-text-repr-fallback'>&lt;xarray.DataArray &#x27;FLASH_LAT&#x27; (FLASH_LAT_x: 29000001)&gt;\n",
       "array([-21.547247, -18.311792,  15.747572, ...,  36.25423 ,  16.217833,\n",
       "        30.770313], dtype=float32)\n",
       "Dimensions without coordinates: FLASH_LAT_x</pre><div class='xr-wrap' hidden><div class='xr-header'><div class='xr-obj-type'>xarray.DataArray</div><div class='xr-array-name'>'FLASH_LAT'</div><ul class='xr-dim-list'><li><span>FLASH_LAT_x</span>: 29000001</li></ul></div><ul class='xr-sections'><li class='xr-section-item'><div class='xr-array-wrap'><input id='section-d154897d-389f-4bf1-85d1-2f6e26ce35a9' class='xr-array-in' type='checkbox' checked><label for='section-d154897d-389f-4bf1-85d1-2f6e26ce35a9' title='Show/hide data repr'><svg class='icon xr-icon-database'><use xlink:href='#icon-database'></use></svg></label><div class='xr-array-preview xr-preview'><span>-21.55 -18.31 15.75 -24.39 37.78 17.34 ... 31.5 25.6 36.25 16.22 30.77</span></div><div class='xr-array-data'><pre>array([-21.547247, -18.311792,  15.747572, ...,  36.25423 ,  16.217833,\n",
       "        30.770313], dtype=float32)</pre></div></div></li><li class='xr-section-item'><input id='section-95ec0fed-aef3-4b32-a055-8f276ea5598b' class='xr-section-summary-in' type='checkbox' disabled ><label for='section-95ec0fed-aef3-4b32-a055-8f276ea5598b' class='xr-section-summary'  title='Expand/collapse section'>Coordinates: <span>(0)</span></label><div class='xr-section-inline-details'></div><div class='xr-section-details'><ul class='xr-var-list'></ul></div></li><li class='xr-section-item'><input id='section-210a72bd-89cc-4cd1-a734-affc96a7e2af' class='xr-section-summary-in' type='checkbox' disabled ><label for='section-210a72bd-89cc-4cd1-a734-affc96a7e2af' class='xr-section-summary'  title='Expand/collapse section'>Attributes: <span>(0)</span></label><div class='xr-section-inline-details'></div><div class='xr-section-details'><dl class='xr-attrs'></dl></div></li></ul></div></div>"
      ],
      "text/plain": [
       "<xarray.DataArray 'FLASH_LAT' (FLASH_LAT_x: 29000001)>\n",
       "array([-21.547247, -18.311792,  15.747572, ...,  36.25423 ,  16.217833,\n",
       "        30.770313], dtype=float32)\n",
       "Dimensions without coordinates: FLASH_LAT_x"
      ]
     },
     "execution_count": 7,
     "metadata": {},
     "output_type": "execute_result"
    }
   ],
   "source": [
    "L['FLASH_LAT']\n"
   ]
  },
  {
   "cell_type": "markdown",
   "metadata": {},
   "source": [
    "To Do: Summarize findings here"
   ]
  },
  {
   "cell_type": "code",
   "execution_count": 8,
   "metadata": {},
   "outputs": [
    {
     "data": {
      "text/html": [
       "<div><svg style=\"position: absolute; width: 0; height: 0; overflow: hidden\">\n",
       "<defs>\n",
       "<symbol id=\"icon-database\" viewBox=\"0 0 32 32\">\n",
       "<path d=\"M16 0c-8.837 0-16 2.239-16 5v4c0 2.761 7.163 5 16 5s16-2.239 16-5v-4c0-2.761-7.163-5-16-5z\"></path>\n",
       "<path d=\"M16 17c-8.837 0-16-2.239-16-5v6c0 2.761 7.163 5 16 5s16-2.239 16-5v-6c0 2.761-7.163 5-16 5z\"></path>\n",
       "<path d=\"M16 26c-8.837 0-16-2.239-16-5v6c0 2.761 7.163 5 16 5s16-2.239 16-5v-6c0 2.761-7.163 5-16 5z\"></path>\n",
       "</symbol>\n",
       "<symbol id=\"icon-file-text2\" viewBox=\"0 0 32 32\">\n",
       "<path d=\"M28.681 7.159c-0.694-0.947-1.662-2.053-2.724-3.116s-2.169-2.030-3.116-2.724c-1.612-1.182-2.393-1.319-2.841-1.319h-15.5c-1.378 0-2.5 1.121-2.5 2.5v27c0 1.378 1.122 2.5 2.5 2.5h23c1.378 0 2.5-1.122 2.5-2.5v-19.5c0-0.448-0.137-1.23-1.319-2.841zM24.543 5.457c0.959 0.959 1.712 1.825 2.268 2.543h-4.811v-4.811c0.718 0.556 1.584 1.309 2.543 2.268zM28 29.5c0 0.271-0.229 0.5-0.5 0.5h-23c-0.271 0-0.5-0.229-0.5-0.5v-27c0-0.271 0.229-0.5 0.5-0.5 0 0 15.499-0 15.5 0v7c0 0.552 0.448 1 1 1h7v19.5z\"></path>\n",
       "<path d=\"M23 26h-14c-0.552 0-1-0.448-1-1s0.448-1 1-1h14c0.552 0 1 0.448 1 1s-0.448 1-1 1z\"></path>\n",
       "<path d=\"M23 22h-14c-0.552 0-1-0.448-1-1s0.448-1 1-1h14c0.552 0 1 0.448 1 1s-0.448 1-1 1z\"></path>\n",
       "<path d=\"M23 18h-14c-0.552 0-1-0.448-1-1s0.448-1 1-1h14c0.552 0 1 0.448 1 1s-0.448 1-1 1z\"></path>\n",
       "</symbol>\n",
       "</defs>\n",
       "</svg>\n",
       "<style>/* CSS stylesheet for displaying xarray objects in jupyterlab.\n",
       " *\n",
       " */\n",
       "\n",
       ":root {\n",
       "  --xr-font-color0: var(--jp-content-font-color0, rgba(0, 0, 0, 1));\n",
       "  --xr-font-color2: var(--jp-content-font-color2, rgba(0, 0, 0, 0.54));\n",
       "  --xr-font-color3: var(--jp-content-font-color3, rgba(0, 0, 0, 0.38));\n",
       "  --xr-border-color: var(--jp-border-color2, #e0e0e0);\n",
       "  --xr-disabled-color: var(--jp-layout-color3, #bdbdbd);\n",
       "  --xr-background-color: var(--jp-layout-color0, white);\n",
       "  --xr-background-color-row-even: var(--jp-layout-color1, white);\n",
       "  --xr-background-color-row-odd: var(--jp-layout-color2, #eeeeee);\n",
       "}\n",
       "\n",
       "html[theme=dark],\n",
       "body.vscode-dark {\n",
       "  --xr-font-color0: rgba(255, 255, 255, 1);\n",
       "  --xr-font-color2: rgba(255, 255, 255, 0.54);\n",
       "  --xr-font-color3: rgba(255, 255, 255, 0.38);\n",
       "  --xr-border-color: #1F1F1F;\n",
       "  --xr-disabled-color: #515151;\n",
       "  --xr-background-color: #111111;\n",
       "  --xr-background-color-row-even: #111111;\n",
       "  --xr-background-color-row-odd: #313131;\n",
       "}\n",
       "\n",
       ".xr-wrap {\n",
       "  display: block;\n",
       "  min-width: 300px;\n",
       "  max-width: 700px;\n",
       "}\n",
       "\n",
       ".xr-text-repr-fallback {\n",
       "  /* fallback to plain text repr when CSS is not injected (untrusted notebook) */\n",
       "  display: none;\n",
       "}\n",
       "\n",
       ".xr-header {\n",
       "  padding-top: 6px;\n",
       "  padding-bottom: 6px;\n",
       "  margin-bottom: 4px;\n",
       "  border-bottom: solid 1px var(--xr-border-color);\n",
       "}\n",
       "\n",
       ".xr-header > div,\n",
       ".xr-header > ul {\n",
       "  display: inline;\n",
       "  margin-top: 0;\n",
       "  margin-bottom: 0;\n",
       "}\n",
       "\n",
       ".xr-obj-type,\n",
       ".xr-array-name {\n",
       "  margin-left: 2px;\n",
       "  margin-right: 10px;\n",
       "}\n",
       "\n",
       ".xr-obj-type {\n",
       "  color: var(--xr-font-color2);\n",
       "}\n",
       "\n",
       ".xr-sections {\n",
       "  padding-left: 0 !important;\n",
       "  display: grid;\n",
       "  grid-template-columns: 150px auto auto 1fr 20px 20px;\n",
       "}\n",
       "\n",
       ".xr-section-item {\n",
       "  display: contents;\n",
       "}\n",
       "\n",
       ".xr-section-item input {\n",
       "  display: none;\n",
       "}\n",
       "\n",
       ".xr-section-item input + label {\n",
       "  color: var(--xr-disabled-color);\n",
       "}\n",
       "\n",
       ".xr-section-item input:enabled + label {\n",
       "  cursor: pointer;\n",
       "  color: var(--xr-font-color2);\n",
       "}\n",
       "\n",
       ".xr-section-item input:enabled + label:hover {\n",
       "  color: var(--xr-font-color0);\n",
       "}\n",
       "\n",
       ".xr-section-summary {\n",
       "  grid-column: 1;\n",
       "  color: var(--xr-font-color2);\n",
       "  font-weight: 500;\n",
       "}\n",
       "\n",
       ".xr-section-summary > span {\n",
       "  display: inline-block;\n",
       "  padding-left: 0.5em;\n",
       "}\n",
       "\n",
       ".xr-section-summary-in:disabled + label {\n",
       "  color: var(--xr-font-color2);\n",
       "}\n",
       "\n",
       ".xr-section-summary-in + label:before {\n",
       "  display: inline-block;\n",
       "  content: '►';\n",
       "  font-size: 11px;\n",
       "  width: 15px;\n",
       "  text-align: center;\n",
       "}\n",
       "\n",
       ".xr-section-summary-in:disabled + label:before {\n",
       "  color: var(--xr-disabled-color);\n",
       "}\n",
       "\n",
       ".xr-section-summary-in:checked + label:before {\n",
       "  content: '▼';\n",
       "}\n",
       "\n",
       ".xr-section-summary-in:checked + label > span {\n",
       "  display: none;\n",
       "}\n",
       "\n",
       ".xr-section-summary,\n",
       ".xr-section-inline-details {\n",
       "  padding-top: 4px;\n",
       "  padding-bottom: 4px;\n",
       "}\n",
       "\n",
       ".xr-section-inline-details {\n",
       "  grid-column: 2 / -1;\n",
       "}\n",
       "\n",
       ".xr-section-details {\n",
       "  display: none;\n",
       "  grid-column: 1 / -1;\n",
       "  margin-bottom: 5px;\n",
       "}\n",
       "\n",
       ".xr-section-summary-in:checked ~ .xr-section-details {\n",
       "  display: contents;\n",
       "}\n",
       "\n",
       ".xr-array-wrap {\n",
       "  grid-column: 1 / -1;\n",
       "  display: grid;\n",
       "  grid-template-columns: 20px auto;\n",
       "}\n",
       "\n",
       ".xr-array-wrap > label {\n",
       "  grid-column: 1;\n",
       "  vertical-align: top;\n",
       "}\n",
       "\n",
       ".xr-preview {\n",
       "  color: var(--xr-font-color3);\n",
       "}\n",
       "\n",
       ".xr-array-preview,\n",
       ".xr-array-data {\n",
       "  padding: 0 5px !important;\n",
       "  grid-column: 2;\n",
       "}\n",
       "\n",
       ".xr-array-data,\n",
       ".xr-array-in:checked ~ .xr-array-preview {\n",
       "  display: none;\n",
       "}\n",
       "\n",
       ".xr-array-in:checked ~ .xr-array-data,\n",
       ".xr-array-preview {\n",
       "  display: inline-block;\n",
       "}\n",
       "\n",
       ".xr-dim-list {\n",
       "  display: inline-block !important;\n",
       "  list-style: none;\n",
       "  padding: 0 !important;\n",
       "  margin: 0;\n",
       "}\n",
       "\n",
       ".xr-dim-list li {\n",
       "  display: inline-block;\n",
       "  padding: 0;\n",
       "  margin: 0;\n",
       "}\n",
       "\n",
       ".xr-dim-list:before {\n",
       "  content: '(';\n",
       "}\n",
       "\n",
       ".xr-dim-list:after {\n",
       "  content: ')';\n",
       "}\n",
       "\n",
       ".xr-dim-list li:not(:last-child):after {\n",
       "  content: ',';\n",
       "  padding-right: 5px;\n",
       "}\n",
       "\n",
       ".xr-has-index {\n",
       "  font-weight: bold;\n",
       "}\n",
       "\n",
       ".xr-var-list,\n",
       ".xr-var-item {\n",
       "  display: contents;\n",
       "}\n",
       "\n",
       ".xr-var-item > div,\n",
       ".xr-var-item label,\n",
       ".xr-var-item > .xr-var-name span {\n",
       "  background-color: var(--xr-background-color-row-even);\n",
       "  margin-bottom: 0;\n",
       "}\n",
       "\n",
       ".xr-var-item > .xr-var-name:hover span {\n",
       "  padding-right: 5px;\n",
       "}\n",
       "\n",
       ".xr-var-list > li:nth-child(odd) > div,\n",
       ".xr-var-list > li:nth-child(odd) > label,\n",
       ".xr-var-list > li:nth-child(odd) > .xr-var-name span {\n",
       "  background-color: var(--xr-background-color-row-odd);\n",
       "}\n",
       "\n",
       ".xr-var-name {\n",
       "  grid-column: 1;\n",
       "}\n",
       "\n",
       ".xr-var-dims {\n",
       "  grid-column: 2;\n",
       "}\n",
       "\n",
       ".xr-var-dtype {\n",
       "  grid-column: 3;\n",
       "  text-align: right;\n",
       "  color: var(--xr-font-color2);\n",
       "}\n",
       "\n",
       ".xr-var-preview {\n",
       "  grid-column: 4;\n",
       "}\n",
       "\n",
       ".xr-var-name,\n",
       ".xr-var-dims,\n",
       ".xr-var-dtype,\n",
       ".xr-preview,\n",
       ".xr-attrs dt {\n",
       "  white-space: nowrap;\n",
       "  overflow: hidden;\n",
       "  text-overflow: ellipsis;\n",
       "  padding-right: 10px;\n",
       "}\n",
       "\n",
       ".xr-var-name:hover,\n",
       ".xr-var-dims:hover,\n",
       ".xr-var-dtype:hover,\n",
       ".xr-attrs dt:hover {\n",
       "  overflow: visible;\n",
       "  width: auto;\n",
       "  z-index: 1;\n",
       "}\n",
       "\n",
       ".xr-var-attrs,\n",
       ".xr-var-data {\n",
       "  display: none;\n",
       "  background-color: var(--xr-background-color) !important;\n",
       "  padding-bottom: 5px !important;\n",
       "}\n",
       "\n",
       ".xr-var-attrs-in:checked ~ .xr-var-attrs,\n",
       ".xr-var-data-in:checked ~ .xr-var-data {\n",
       "  display: block;\n",
       "}\n",
       "\n",
       ".xr-var-data > table {\n",
       "  float: right;\n",
       "}\n",
       "\n",
       ".xr-var-name span,\n",
       ".xr-var-data,\n",
       ".xr-attrs {\n",
       "  padding-left: 25px !important;\n",
       "}\n",
       "\n",
       ".xr-attrs,\n",
       ".xr-var-attrs,\n",
       ".xr-var-data {\n",
       "  grid-column: 1 / -1;\n",
       "}\n",
       "\n",
       "dl.xr-attrs {\n",
       "  padding: 0;\n",
       "  margin: 0;\n",
       "  display: grid;\n",
       "  grid-template-columns: 125px auto;\n",
       "}\n",
       "\n",
       ".xr-attrs dt,\n",
       ".xr-attrs dd {\n",
       "  padding: 0;\n",
       "  margin: 0;\n",
       "  float: left;\n",
       "  padding-right: 10px;\n",
       "  width: auto;\n",
       "}\n",
       "\n",
       ".xr-attrs dt {\n",
       "  font-weight: normal;\n",
       "  grid-column: 1;\n",
       "}\n",
       "\n",
       ".xr-attrs dt:hover span {\n",
       "  display: inline-block;\n",
       "  background: var(--xr-background-color);\n",
       "  padding-right: 10px;\n",
       "}\n",
       "\n",
       ".xr-attrs dd {\n",
       "  grid-column: 2;\n",
       "  white-space: pre-wrap;\n",
       "  word-break: break-all;\n",
       "}\n",
       "\n",
       ".xr-icon-database,\n",
       ".xr-icon-file-text2 {\n",
       "  display: inline-block;\n",
       "  vertical-align: middle;\n",
       "  width: 1em;\n",
       "  height: 1.5em !important;\n",
       "  stroke-width: 0;\n",
       "  stroke: currentColor;\n",
       "  fill: currentColor;\n",
       "}\n",
       "</style><pre class='xr-text-repr-fallback'>&lt;xarray.DataArray &#x27;FLASH_LAT&#x27; (FLASH_LAT_x: 29000001)&gt;\n",
       "array([-21.547247, -18.311792,  15.747572, ...,  36.25423 ,  16.217833,\n",
       "        30.770313], dtype=float32)\n",
       "Dimensions without coordinates: FLASH_LAT_x</pre><div class='xr-wrap' hidden><div class='xr-header'><div class='xr-obj-type'>xarray.DataArray</div><div class='xr-array-name'>'FLASH_LAT'</div><ul class='xr-dim-list'><li><span>FLASH_LAT_x</span>: 29000001</li></ul></div><ul class='xr-sections'><li class='xr-section-item'><div class='xr-array-wrap'><input id='section-f1863fcc-7748-441b-9f50-7279f7f6eba0' class='xr-array-in' type='checkbox' checked><label for='section-f1863fcc-7748-441b-9f50-7279f7f6eba0' title='Show/hide data repr'><svg class='icon xr-icon-database'><use xlink:href='#icon-database'></use></svg></label><div class='xr-array-preview xr-preview'><span>-21.55 -18.31 15.75 -24.39 37.78 17.34 ... 31.5 25.6 36.25 16.22 30.77</span></div><div class='xr-array-data'><pre>array([-21.547247, -18.311792,  15.747572, ...,  36.25423 ,  16.217833,\n",
       "        30.770313], dtype=float32)</pre></div></div></li><li class='xr-section-item'><input id='section-50b1010a-9ea5-41cc-9c61-1a11567778e7' class='xr-section-summary-in' type='checkbox' disabled ><label for='section-50b1010a-9ea5-41cc-9c61-1a11567778e7' class='xr-section-summary'  title='Expand/collapse section'>Coordinates: <span>(0)</span></label><div class='xr-section-inline-details'></div><div class='xr-section-details'><ul class='xr-var-list'></ul></div></li><li class='xr-section-item'><input id='section-384cbb4d-a6f4-480e-b298-0a19d4170370' class='xr-section-summary-in' type='checkbox' disabled ><label for='section-384cbb4d-a6f4-480e-b298-0a19d4170370' class='xr-section-summary'  title='Expand/collapse section'>Attributes: <span>(0)</span></label><div class='xr-section-inline-details'></div><div class='xr-section-details'><dl class='xr-attrs'></dl></div></li></ul></div></div>"
      ],
      "text/plain": [
       "<xarray.DataArray 'FLASH_LAT' (FLASH_LAT_x: 29000001)>\n",
       "array([-21.547247, -18.311792,  15.747572, ...,  36.25423 ,  16.217833,\n",
       "        30.770313], dtype=float32)\n",
       "Dimensions without coordinates: FLASH_LAT_x"
      ]
     },
     "execution_count": 8,
     "metadata": {},
     "output_type": "execute_result"
    }
   ],
   "source": [
    "L.FLASH_LAT"
   ]
  },
  {
   "cell_type": "code",
   "execution_count": 9,
   "metadata": {},
   "outputs": [
    {
     "data": {
      "image/png": "[encoded data removed]",
      "text/plain": [
       "<Figure size 1080x720 with 1 Axes>"
      ]
     },
     "metadata": {
      "needs_background": "light"
     },
     "output_type": "display_data"
    }
   ],
   "source": [
    "# Experimenting w matplotlib subplots\n",
    "#Call `hist` method to plot histograms of each of the numeric features\n",
    "#Try passing it an argument figsize=(15,10)\n",
    "#Try calling plt.subplots_adjust() with an argument hspace=0.5 to adjust the spacing\n",
    "#It's important you create legible and easy-to-read plots\n",
    "dftest.hist(figsize=(15,10))\n",
    "plt.subplots_adjust(hspace=0.5);\n",
    "#Hint: notice how the terminating ';' \"swallows\" some messy output and leads to a tidier notebook"
   ]
  },
  {
   "cell_type": "code",
   "execution_count": 10,
   "metadata": {},
   "outputs": [
    {
     "data": {
      "text/html": [
       "<div>\n",
       "<style scoped>\n",
       "    .dataframe tbody tr th:only-of-type {\n",
       "        vertical-align: middle;\n",
       "    }\n",
       "\n",
       "    .dataframe tbody tr th {\n",
       "        vertical-align: top;\n",
       "    }\n",
       "\n",
       "    .dataframe thead th {\n",
       "        text-align: right;\n",
       "    }\n",
       "</style>\n",
       "<table border=\"1\" class=\"dataframe\">\n",
       "  <thead>\n",
       "    <tr style=\"text-align: right;\">\n",
       "      <th></th>\n",
       "      <th>FLASH_LAT</th>\n",
       "    </tr>\n",
       "  </thead>\n",
       "  <tbody>\n",
       "    <tr>\n",
       "      <th>count</th>\n",
       "      <td>2.900000e+07</td>\n",
       "    </tr>\n",
       "    <tr>\n",
       "      <th>mean</th>\n",
       "      <td>1.151924e+01</td>\n",
       "    </tr>\n",
       "    <tr>\n",
       "      <th>std</th>\n",
       "      <td>2.666893e+01</td>\n",
       "    </tr>\n",
       "    <tr>\n",
       "      <th>min</th>\n",
       "      <td>-4.500000e+01</td>\n",
       "    </tr>\n",
       "    <tr>\n",
       "      <th>25%</th>\n",
       "      <td>-2.030069e+01</td>\n",
       "    </tr>\n",
       "    <tr>\n",
       "      <th>50%</th>\n",
       "      <td>2.254980e+01</td>\n",
       "    </tr>\n",
       "    <tr>\n",
       "      <th>75%</th>\n",
       "      <td>3.224827e+01</td>\n",
       "    </tr>\n",
       "    <tr>\n",
       "      <th>max</th>\n",
       "      <td>4.000000e+01</td>\n",
       "    </tr>\n",
       "  </tbody>\n",
       "</table>\n",
       "</div>"
      ],
      "text/plain": [
       "          FLASH_LAT\n",
       "count  2.900000e+07\n",
       "mean   1.151924e+01\n",
       "std    2.666893e+01\n",
       "min   -4.500000e+01\n",
       "25%   -2.030069e+01\n",
       "50%    2.254980e+01\n",
       "75%    3.224827e+01\n",
       "max    4.000000e+01"
      ]
     },
     "execution_count": 10,
     "metadata": {},
     "output_type": "execute_result"
    }
   ],
   "source": [
    "dftest.describe()\n"
   ]
  },
  {
   "cell_type": "code",
   "execution_count": 11,
   "metadata": {},
   "outputs": [],
   "source": [
    "#experimenting with Xarray plotting\n",
    "\n",
    "#L.plt()"
   ]
  },
  {
   "cell_type": "markdown",
   "metadata": {},
   "source": [
    "### 1.6.2 Generating Histograms For Each Applicable Field<a id='2.6.2_Generating_Histograms_For_Each_Applicable_Field'></a>"
   ]
  },
  {
   "cell_type": "markdown",
   "metadata": {},
   "source": [
    "One way to double check that the data is reasonable is to use matplotlib to generate histograms for each field. They should all have normal or log normal behavior. If you see a huge peak at a large positive or negative value, then it’s a problem. If there are only a few events on the extreme tails, then you’re golden.\n",
    "\n",
    "Notes: some fields that might not make sense for the histograms are FLASH_ID, FLASH_TIME_OFFSET_OF_FIRST_EVENT, and FLASH_TIME_OFFSET_OF_LAST_EVENT (as the offsets are rolling counters)\n",
    "\n",
    "If want to use FLASH_LCFA_CDATE, need to strip off year first"
   ]
  },
  {
   "cell_type": "code",
   "execution_count": 12,
   "metadata": {},
   "outputs": [
    {
     "data": {
      "text/plain": [
       "(array([4886553., 2971964., 2368693., 2030529., 1516514., 1243778.,\n",
       "        1318488., 2351715., 4386915., 5924852.]),\n",
       " array([     0.,  23450.,  46900.,  70350.,  93800., 117250., 140700.,\n",
       "        164150., 187600., 211050., 234500.]),\n",
       " <BarContainer object of 10 artists>)"
      ]
     },
     "execution_count": 12,
     "metadata": {},
     "output_type": "execute_result"
    },
    {
     "data": {
      "image/png": "[encoded data removed]",
      "text/plain": [
       "<Figure size 432x288 with 1 Axes>"
      ]
     },
     "metadata": {
      "needs_background": "light"
     },
     "output_type": "display_data"
    }
   ],
   "source": [
    "#Trying to plot historgrams for all Lightning data fields\n",
    "L.FLASH_LCFA_TSTAMP.plot.hist()\n"
   ]
  },
  {
   "cell_type": "code",
   "execution_count": 13,
   "metadata": {},
   "outputs": [
    {
     "data": {
      "text/plain": [
       "(array([ 939688., 3591937., 2907785., 1178369.,       0.,       0.,\n",
       "              0., 6153964., 6190950., 8037308.]),\n",
       " array([-44.999996, -36.499996, -27.999998, -19.499998, -10.999999,\n",
       "         -2.5     ,   5.999999,  14.499998,  22.999998,  31.499996,\n",
       "         39.999996], dtype=float32),\n",
       " <BarContainer object of 10 artists>)"
      ]
     },
     "execution_count": 13,
     "metadata": {},
     "output_type": "execute_result"
    },
    {
     "data": {
      "image/png": "[encoded data removed]",
      "text/plain": [
       "<Figure size 432x288 with 1 Axes>"
      ]
     },
     "metadata": {
      "needs_background": "light"
     },
     "output_type": "display_data"
    }
   ],
   "source": [
    "L.FLASH_LAT.plot.hist()"
   ]
  },
  {
   "cell_type": "code",
   "execution_count": 14,
   "metadata": {},
   "outputs": [
    {
     "data": {
      "text/plain": [
       "(array([1140557., 4924063., 4924199., 4436414., 3381510., 1497276.,\n",
       "        2911360., 4238015.,  955894.,  590713.]),\n",
       " array([-109.99998 , -102.999985,  -95.999985,  -88.999985,  -81.99999 ,\n",
       "         -75.      ,  -68.      ,  -61.000004,  -54.000008,  -47.00001 ,\n",
       "         -40.000015], dtype=float32),\n",
       " <BarContainer object of 10 artists>)"
      ]
     },
     "execution_count": 14,
     "metadata": {},
     "output_type": "execute_result"
    },
    {
     "data": {
      "image/png": "[encoded data removed]",
      "text/plain": [
       "<Figure size 432x288 with 1 Axes>"
      ]
     },
     "metadata": {
      "needs_background": "light"
     },
     "output_type": "display_data"
    }
   ],
   "source": [
    "L.FLASH_LON.plot.hist()"
   ]
  },
  {
   "cell_type": "code",
   "execution_count": 15,
   "metadata": {},
   "outputs": [],
   "source": [
    "n_data = len(L.FLASH_AREA)\n",
    "#29,000,001"
   ]
  },
  {
   "cell_type": "code",
   "execution_count": 16,
   "metadata": {},
   "outputs": [
    {
     "data": {
      "text/plain": [
       "5385"
      ]
     },
     "execution_count": 16,
     "metadata": {},
     "output_type": "execute_result"
    }
   ],
   "source": [
    "n_bins=np.sqrt(n_data)\n",
    "n_bins=int(n_bins)\n",
    "n_bins\n",
    "# 5385.164899982173"
   ]
  },
  {
   "cell_type": "code",
   "execution_count": 17,
   "metadata": {},
   "outputs": [],
   "source": [
    "#n_bins = 10000"
   ]
  },
  {
   "cell_type": "code",
   "execution_count": 18,
   "metadata": {},
   "outputs": [
    {
     "data": {
      "text/plain": [
       "(array([2.967839e+06, 2.000000e+00, 0.000000e+00, ..., 0.000000e+00,\n",
       "        0.000000e+00, 1.000000e+00]),\n",
       " array([6.5160996e+07, 7.9848728e+07, 9.4536456e+07, ..., 7.9129207e+10,\n",
       "        7.9143895e+10, 7.9158583e+10], dtype=float32),\n",
       " <BarContainer object of 5385 artists>)"
      ]
     },
     "execution_count": 18,
     "metadata": {},
     "output_type": "execute_result"
    },
    {
     "data": {
      "image/png": "[encoded data removed]",
      "text/plain": [
       "<Figure size 432x288 with 1 Axes>"
      ]
     },
     "metadata": {
      "needs_background": "light"
     },
     "output_type": "display_data"
    }
   ],
   "source": [
    "plt.hist(L.FLASH_AREA, bins = n_bins)"
   ]
  },
  {
   "cell_type": "code",
   "execution_count": 19,
   "metadata": {},
   "outputs": [
    {
     "data": {
      "text/plain": [
       "(array([2.8990605e+07, 8.3570000e+03, 7.8500000e+02, 1.7400000e+02,\n",
       "        4.9000000e+01, 1.6000000e+01, 7.0000000e+00, 4.0000000e+00,\n",
       "        1.0000000e+00, 3.0000000e+00]),\n",
       " array([6.5160996e+07, 7.9745034e+09, 1.5883846e+10, 2.3793187e+10,\n",
       "        3.1702530e+10, 3.9611871e+10, 4.7521214e+10, 5.5430558e+10,\n",
       "        6.3339897e+10, 7.1249240e+10, 7.9158583e+10], dtype=float32),\n",
       " <BarContainer object of 10 artists>)"
      ]
     },
     "execution_count": 19,
     "metadata": {},
     "output_type": "execute_result"
    },
    {
     "data": {
      "image/png": "[encoded data removed]",
      "text/plain": [
       "<Figure size 432x288 with 1 Axes>"
      ]
     },
     "metadata": {
      "needs_background": "light"
     },
     "output_type": "display_data"
    }
   ],
   "source": [
    "L.FLASH_AREA.plot.hist()"
   ]
  },
  {
   "cell_type": "code",
   "execution_count": 20,
   "metadata": {},
   "outputs": [
    {
     "data": {
      "text/plain": [
       "(array([2.8998962e+07, 9.5900000e+02, 6.5000000e+01, 1.1000000e+01,\n",
       "        4.0000000e+00]),\n",
       " array([6.5160996e+07, 1.5883846e+10, 3.1702530e+10, 4.7521214e+10,\n",
       "        6.3339897e+10, 7.9158583e+10], dtype=float32),\n",
       " <BarContainer object of 5 artists>)"
      ]
     },
     "execution_count": 20,
     "metadata": {},
     "output_type": "execute_result"
    },
    {
     "data": {
      "image/png": "[encoded data removed]",
      "text/plain": [
       "<Figure size 432x288 with 1 Axes>"
      ]
     },
     "metadata": {
      "needs_background": "light"
     },
     "output_type": "display_data"
    }
   ],
   "source": [
    "# Trying to make more informative histogram diagram\n",
    "L.FLASH_AREA.plot.hist(bins=5)\n"
   ]
  },
  {
   "cell_type": "code",
   "execution_count": 21,
   "metadata": {},
   "outputs": [
    {
     "data": {
      "text/plain": [
       "(array([2.8341004e+07, 4.7606000e+05, 1.0140300e+05, ..., 0.0000000e+00,\n",
       "        0.0000000e+00, 1.0000000e+00]),\n",
       " array([0.0000000e+00, 2.2432490e-12, 4.4864980e-12, ..., 1.2075410e-08,\n",
       "        1.2077653e-08, 1.2079896e-08], dtype=float32),\n",
       " <BarContainer object of 5385 artists>)"
      ]
     },
     "execution_count": 21,
     "metadata": {},
     "output_type": "execute_result"
    },
    {
     "data": {
      "image/png": "[encoded data removed]",
      "text/plain": [
       "<Figure size 432x288 with 1 Axes>"
      ]
     },
     "metadata": {
      "needs_background": "light"
     },
     "output_type": "display_data"
    }
   ],
   "source": [
    "n_data = len(L.FLASH_ENERGY)\n",
    "n_bins=np.sqrt(n_data)\n",
    "n_bins=int(n_bins)\n",
    "n_bins\n",
    "plt.hist(L.FLASH_ENERGY, bins = n_bins)\n"
   ]
  },
  {
   "cell_type": "code",
   "execution_count": 22,
   "metadata": {},
   "outputs": [
    {
     "data": {
      "text/plain": [
       "(array([2.8999999e+07, 0.0000000e+00, 0.0000000e+00, 1.0000000e+00,\n",
       "        0.0000000e+00, 0.0000000e+00, 0.0000000e+00, 0.0000000e+00,\n",
       "        0.0000000e+00, 1.0000000e+00]),\n",
       " array([0.0000000e+00, 1.2079896e-09, 2.4159792e-09, 3.6239689e-09,\n",
       "        4.8319584e-09, 6.0399481e-09, 7.2479378e-09, 8.4559275e-09,\n",
       "        9.6639168e-09, 1.0871907e-08, 1.2079896e-08], dtype=float32),\n",
       " <BarContainer object of 10 artists>)"
      ]
     },
     "execution_count": 22,
     "metadata": {},
     "output_type": "execute_result"
    },
    {
     "data": {
      "image/png": "[encoded data removed]",
      "text/plain": [
       "<Figure size 432x288 with 1 Axes>"
      ]
     },
     "metadata": {
      "needs_background": "light"
     },
     "output_type": "display_data"
    }
   ],
   "source": [
    "L.FLASH_ENERGY.plot.hist()"
   ]
  },
  {
   "cell_type": "code",
   "execution_count": 23,
   "metadata": {},
   "outputs": [
    {
     "data": {
      "text/plain": [
       "(array([2.962956e+06, 2.179292e+06, 1.786436e+06, ..., 0.000000e+00,\n",
       "        0.000000e+00, 1.000000e+00]),\n",
       " array([2.00000000e+00, 2.93184773e+00, 3.86369545e+00, ...,\n",
       "        5.01813630e+03, 5.01906815e+03, 5.02000000e+03]),\n",
       " <BarContainer object of 5385 artists>)"
      ]
     },
     "execution_count": 23,
     "metadata": {},
     "output_type": "execute_result"
    },
    {
     "data": {
      "image/png": "[encoded data removed]",
      "text/plain": [
       "<Figure size 432x288 with 1 Axes>"
      ]
     },
     "metadata": {
      "needs_background": "light"
     },
     "output_type": "display_data"
    }
   ],
   "source": [
    "n_data = len(L.FLASH_GROUP_COUNT)\n",
    "n_bins=np.sqrt(n_data)\n",
    "n_bins=int(n_bins)\n",
    "n_bins\n",
    "plt.hist(L.FLASH_GROUP_COUNT, bins = n_bins)"
   ]
  },
  {
   "cell_type": "code",
   "execution_count": 24,
   "metadata": {},
   "outputs": [
    {
     "data": {
      "text/plain": [
       "(array([2.8987808e+07, 9.8990000e+03, 1.6170000e+03, 4.3200000e+02,\n",
       "        1.5200000e+02, 4.4000000e+01, 2.9000000e+01, 1.2000000e+01,\n",
       "        4.0000000e+00, 4.0000000e+00]),\n",
       " array([2.0000e+00, 5.0380e+02, 1.0056e+03, 1.5074e+03, 2.0092e+03,\n",
       "        2.5110e+03, 3.0128e+03, 3.5146e+03, 4.0164e+03, 4.5182e+03,\n",
       "        5.0200e+03]),\n",
       " <BarContainer object of 10 artists>)"
      ]
     },
     "execution_count": 24,
     "metadata": {},
     "output_type": "execute_result"
    },
    {
     "data": {
      "image/png": "[encoded data removed]",
      "text/plain": [
       "<Figure size 432x288 with 1 Axes>"
      ]
     },
     "metadata": {
      "needs_background": "light"
     },
     "output_type": "display_data"
    }
   ],
   "source": [
    "L.FLASH_GROUP_COUNT.plot.hist()"
   ]
  },
  {
   "cell_type": "code",
   "execution_count": 25,
   "metadata": {},
   "outputs": [
    {
     "data": {
      "text/plain": [
       "(array([7.99565e+05, 0.00000e+00, 0.00000e+00, ..., 0.00000e+00,\n",
       "        0.00000e+00, 1.00000e+00]),\n",
       " array([1.00000000e+00, 1.29025070e+00, 1.58050139e+00, ...,\n",
       "        1.56341950e+03, 1.56370975e+03, 1.56400000e+03]),\n",
       " <BarContainer object of 5385 artists>)"
      ]
     },
     "execution_count": 25,
     "metadata": {},
     "output_type": "execute_result"
    },
    {
     "data": {
      "image/png": "[encoded data removed]",
      "text/plain": [
       "<Figure size 432x288 with 1 Axes>"
      ]
     },
     "metadata": {
      "needs_background": "light"
     },
     "output_type": "display_data"
    }
   ],
   "source": [
    "n_data = len(L.FLASH_SERIES_COUNT)\n",
    "n_bins=np.sqrt(n_data)\n",
    "n_bins=int(n_bins)\n",
    "n_bins\n",
    "plt.hist(L.FLASH_SERIES_COUNT, bins = n_bins)"
   ]
  },
  {
   "cell_type": "code",
   "execution_count": 26,
   "metadata": {},
   "outputs": [
    {
     "data": {
      "text/plain": [
       "(array([2.8987056e+07, 1.1875000e+04, 8.2200000e+02, 1.6600000e+02,\n",
       "        4.7000000e+01, 1.6000000e+01, 1.0000000e+01, 2.0000000e+00,\n",
       "        3.0000000e+00, 4.0000000e+00]),\n",
       " array([1.0000e+00, 1.5730e+02, 3.1360e+02, 4.6990e+02, 6.2620e+02,\n",
       "        7.8250e+02, 9.3880e+02, 1.0951e+03, 1.2514e+03, 1.4077e+03,\n",
       "        1.5640e+03]),\n",
       " <BarContainer object of 10 artists>)"
      ]
     },
     "execution_count": 26,
     "metadata": {},
     "output_type": "execute_result"
    },
    {
     "data": {
      "image/png": "[encoded data removed]",
      "text/plain": [
       "<Figure size 432x288 with 1 Axes>"
      ]
     },
     "metadata": {
      "needs_background": "light"
     },
     "output_type": "display_data"
    }
   ],
   "source": [
    "L.FLASH_SERIES_COUNT.plot.hist()"
   ]
  },
  {
   "cell_type": "code",
   "execution_count": 27,
   "metadata": {},
   "outputs": [
    {
     "data": {
      "text/plain": [
       "(array([1.4895039e+07, 4.9808710e+06, 2.5529370e+06, ..., 0.0000000e+00,\n",
       "        0.0000000e+00, 1.0000000e+00]),\n",
       " array([2.00000000e+00, 2.26601671e+01, 4.33203343e+01, ...,\n",
       "        1.11215680e+05, 1.11236340e+05, 1.11257000e+05]),\n",
       " <BarContainer object of 5385 artists>)"
      ]
     },
     "execution_count": 27,
     "metadata": {},
     "output_type": "execute_result"
    },
    {
     "data": {
      "image/png": "[encoded data removed]",
      "text/plain": [
       "<Figure size 432x288 with 1 Axes>"
      ]
     },
     "metadata": {
      "needs_background": "light"
     },
     "output_type": "display_data"
    }
   ],
   "source": [
    "n_data = len(L.FLASH_EVENT_COUNT)\n",
    "n_bins=np.sqrt(n_data)\n",
    "n_bins=int(n_bins)\n",
    "n_bins\n",
    "plt.hist(L.FLASH_EVENT_COUNT, bins = n_bins)"
   ]
  },
  {
   "cell_type": "code",
   "execution_count": 28,
   "metadata": {},
   "outputs": [
    {
     "data": {
      "text/plain": [
       "(array([2.8999762e+07, 2.2100000e+02, 1.4000000e+01, 3.0000000e+00,\n",
       "        0.0000000e+00, 0.0000000e+00, 0.0000000e+00, 0.0000000e+00,\n",
       "        0.0000000e+00, 1.0000000e+00]),\n",
       " array([2.000000e+00, 1.112750e+04, 2.225300e+04, 3.337850e+04,\n",
       "        4.450400e+04, 5.562950e+04, 6.675500e+04, 7.788050e+04,\n",
       "        8.900600e+04, 1.001315e+05, 1.112570e+05]),\n",
       " <BarContainer object of 10 artists>)"
      ]
     },
     "execution_count": 28,
     "metadata": {},
     "output_type": "execute_result"
    },
    {
     "data": {
      "image/png": "[encoded data removed]",
      "text/plain": [
       "<Figure size 432x288 with 1 Axes>"
      ]
     },
     "metadata": {
      "needs_background": "light"
     },
     "output_type": "display_data"
    }
   ],
   "source": [
    "L.FLASH_EVENT_COUNT.plot.hist()"
   ]
  },
  {
   "cell_type": "code",
   "execution_count": 29,
   "metadata": {},
   "outputs": [
    {
     "data": {
      "text/plain": [
       "(array([7.39128e+05, 4.68953e+05, 2.84380e+05, ..., 0.00000e+00,\n",
       "        0.00000e+00, 1.00000e+00]),\n",
       " array([0.0000000e+00, 5.1769740e-03, 1.0353948e-02, ..., 2.7867653e+01,\n",
       "        2.7872829e+01, 2.7878006e+01], dtype=float32),\n",
       " <BarContainer object of 5385 artists>)"
      ]
     },
     "execution_count": 29,
     "metadata": {},
     "output_type": "execute_result"
    },
    {
     "data": {
      "image/png": "[encoded data removed]",
      "text/plain": [
       "<Figure size 432x288 with 1 Axes>"
      ]
     },
     "metadata": {
      "needs_background": "light"
     },
     "output_type": "display_data"
    }
   ],
   "source": [
    "n_data = len(L.FLASH_DURATION)\n",
    "n_bins=np.sqrt(n_data)\n",
    "n_bins=int(n_bins)\n",
    "n_bins\n",
    "plt.hist(L.FLASH_DURATION, bins = n_bins)"
   ]
  },
  {
   "cell_type": "code",
   "execution_count": 30,
   "metadata": {},
   "outputs": [
    {
     "data": {
      "text/plain": [
       "(array([2.8969519e+07, 2.8478000e+04, 1.6280000e+03, 2.5700000e+02,\n",
       "        7.6000000e+01, 2.5000000e+01, 8.0000000e+00, 5.0000000e+00,\n",
       "        3.0000000e+00, 2.0000000e+00]),\n",
       " array([ 0.       ,  2.7878006,  5.575601 ,  8.363401 , 11.151202 ,\n",
       "        13.939003 , 16.726803 , 19.514605 , 22.302404 , 25.090206 ,\n",
       "        27.878006 ], dtype=float32),\n",
       " <BarContainer object of 10 artists>)"
      ]
     },
     "execution_count": 30,
     "metadata": {},
     "output_type": "execute_result"
    },
    {
     "data": {
      "image/png": "[encoded data removed]",
      "text/plain": [
       "<Figure size 432x288 with 1 Axes>"
      ]
     },
     "metadata": {
      "needs_background": "light"
     },
     "output_type": "display_data"
    }
   ],
   "source": [
    "L.FLASH_DURATION.plot.hist()"
   ]
  },
  {
   "cell_type": "code",
   "execution_count": 31,
   "metadata": {},
   "outputs": [
    {
     "data": {
      "text/plain": [
       "(array([3.272186e+06, 8.492200e+04, 1.031560e+05, ..., 0.000000e+00,\n",
       "        0.000000e+00, 1.000000e+00]),\n",
       " array([0.0000000e+00, 2.1018052e-01, 4.2036104e-01, ..., 1.1314017e+03,\n",
       "        1.1316119e+03, 1.1318221e+03], dtype=float32),\n",
       " <BarContainer object of 5385 artists>)"
      ]
     },
     "execution_count": 31,
     "metadata": {},
     "output_type": "execute_result"
    },
    {
     "data": {
      "image/png": "[encoded data removed]",
      "text/plain": [
       "<Figure size 432x288 with 1 Axes>"
      ]
     },
     "metadata": {
      "needs_background": "light"
     },
     "output_type": "display_data"
    }
   ],
   "source": [
    "n_data = len(L.FLASH_GROUP_MAX_SEPARATION)\n",
    "n_bins=np.sqrt(n_data)\n",
    "n_bins=int(n_bins)\n",
    "n_bins\n",
    "plt.hist(L.FLASH_GROUP_MAX_SEPARATION, bins = n_bins)"
   ]
  },
  {
   "cell_type": "code",
   "execution_count": 32,
   "metadata": {},
   "outputs": [
    {
     "data": {
      "text/plain": [
       "(array([2.8988239e+07, 1.1358000e+04, 3.6600000e+02, 3.1000000e+01,\n",
       "        5.0000000e+00, 1.0000000e+00, 0.0000000e+00, 0.0000000e+00,\n",
       "        0.0000000e+00, 1.0000000e+00]),\n",
       " array([   0.     ,  113.18221,  226.36443,  339.54663,  452.72885,\n",
       "         565.9111 ,  679.09326,  792.2755 ,  905.4577 , 1018.63995,\n",
       "        1131.8221 ], dtype=float32),\n",
       " <BarContainer object of 10 artists>)"
      ]
     },
     "execution_count": 32,
     "metadata": {},
     "output_type": "execute_result"
    },
    {
     "data": {
      "image/png": "[encoded data removed]",
      "text/plain": [
       "<Figure size 432x288 with 1 Axes>"
      ]
     },
     "metadata": {
      "needs_background": "light"
     },
     "output_type": "display_data"
    }
   ],
   "source": [
    "L.FLASH_GROUP_MAX_SEPARATION.plot.hist()"
   ]
  },
  {
   "cell_type": "code",
   "execution_count": 33,
   "metadata": {},
   "outputs": [
    {
     "data": {
      "text/plain": [
       "(array([3.932998e+06, 1.703770e+06, 2.232275e+06, ..., 0.000000e+00,\n",
       "        0.000000e+00, 1.000000e+00]),\n",
       " array([0.0000000e+00, 1.3149143e+00, 2.6298287e+00, ..., 7.0781841e+03,\n",
       "        7.0794990e+03, 7.0808140e+03], dtype=float32),\n",
       " <BarContainer object of 5385 artists>)"
      ]
     },
     "execution_count": 33,
     "metadata": {},
     "output_type": "execute_result"
    },
    {
     "data": {
      "image/png": "[encoded data removed]",
      "text/plain": [
       "<Figure size 432x288 with 1 Axes>"
      ]
     },
     "metadata": {
      "needs_background": "light"
     },
     "output_type": "display_data"
    }
   ],
   "source": [
    "n_data = len(L.FLASH_GROUP_TOTAL_SEPARATION)\n",
    "n_bins=np.sqrt(n_data)\n",
    "n_bins=int(n_bins)\n",
    "n_bins\n",
    "plt.hist(L.FLASH_GROUP_TOTAL_SEPARATION, bins = n_bins)"
   ]
  },
  {
   "cell_type": "code",
   "execution_count": 34,
   "metadata": {},
   "outputs": [
    {
     "data": {
      "text/plain": [
       "(array([2.8991892e+07, 6.5410000e+03, 1.0900000e+03, 3.0600000e+02,\n",
       "        1.0300000e+02, 3.6000000e+01, 1.6000000e+01, 8.0000000e+00,\n",
       "        4.0000000e+00, 5.0000000e+00]),\n",
       " array([   0.    ,  708.0814, 1416.1628, 2124.2441, 2832.3257, 3540.407 ,\n",
       "        4248.4883, 4956.57  , 5664.6514, 6372.7324, 7080.814 ],\n",
       "       dtype=float32),\n",
       " <BarContainer object of 10 artists>)"
      ]
     },
     "execution_count": 34,
     "metadata": {},
     "output_type": "execute_result"
    },
    {
     "data": {
      "image/png": "[encoded data removed]",
      "text/plain": [
       "<Figure size 432x288 with 1 Axes>"
      ]
     },
     "metadata": {
      "needs_background": "light"
     },
     "output_type": "display_data"
    }
   ],
   "source": [
    "L.FLASH_GROUP_TOTAL_SEPARATION.plot.hist()"
   ]
  },
  {
   "cell_type": "code",
   "execution_count": 35,
   "metadata": {},
   "outputs": [
    {
     "data": {
      "text/plain": [
       "(array([3.068129e+06, 1.383750e+05, 2.800000e+02, ..., 0.000000e+00,\n",
       "        0.000000e+00, 1.000000e+00]),\n",
       " array([0.0000000e+00, 2.1397872e-01, 4.2795745e-01, ..., 1.1518474e+03,\n",
       "        1.1520614e+03, 1.1522754e+03], dtype=float32),\n",
       " <BarContainer object of 5385 artists>)"
      ]
     },
     "execution_count": 35,
     "metadata": {},
     "output_type": "execute_result"
    },
    {
     "data": {
      "image/png": "[encoded data removed]",
      "text/plain": [
       "<Figure size 432x288 with 1 Axes>"
      ]
     },
     "metadata": {
      "needs_background": "light"
     },
     "output_type": "display_data"
    }
   ],
   "source": [
    "n_data = len(L.FLASH_EVENT_MAX_SEPARATION)\n",
    "n_bins=np.sqrt(n_data)\n",
    "n_bins=int(n_bins)\n",
    "n_bins\n",
    "plt.hist(L.FLASH_EVENT_MAX_SEPARATION, bins = n_bins)"
   ]
  },
  {
   "cell_type": "code",
   "execution_count": 36,
   "metadata": {},
   "outputs": [
    {
     "data": {
      "text/plain": [
       "(array([2.8975847e+07, 2.3571000e+04, 5.3300000e+02, 4.3000000e+01,\n",
       "        5.0000000e+00, 1.0000000e+00, 0.0000000e+00, 0.0000000e+00,\n",
       "        0.0000000e+00, 1.0000000e+00]),\n",
       " array([   0.     ,  115.22754,  230.45508,  345.68262,  460.91016,\n",
       "         576.1377 ,  691.36523,  806.5928 ,  921.8203 , 1037.0479 ,\n",
       "        1152.2754 ], dtype=float32),\n",
       " <BarContainer object of 10 artists>)"
      ]
     },
     "execution_count": 36,
     "metadata": {},
     "output_type": "execute_result"
    },
    {
     "data": {
      "image/png": "[encoded data removed]",
      "text/plain": [
       "<Figure size 432x288 with 1 Axes>"
      ]
     },
     "metadata": {
      "needs_background": "light"
     },
     "output_type": "display_data"
    }
   ],
   "source": [
    "L.FLASH_EVENT_MAX_SEPARATION.plot.hist()"
   ]
  },
  {
   "cell_type": "code",
   "execution_count": 37,
   "metadata": {},
   "outputs": [
    {
     "data": {
      "text/plain": [
       "(array([4.505868e+06, 0.000000e+00, 0.000000e+00, ..., 0.000000e+00,\n",
       "        0.000000e+00, 1.000000e+00]),\n",
       " array([0.00000000e+00, 9.28505107e-02, 1.85701021e-01, ...,\n",
       "        4.99814299e+02, 4.99907149e+02, 5.00000000e+02]),\n",
       " <BarContainer object of 5385 artists>)"
      ]
     },
     "execution_count": 37,
     "metadata": {},
     "output_type": "execute_result"
    },
    {
     "data": {
      "image/png": "[encoded data removed]",
      "text/plain": [
       "<Figure size 432x288 with 1 Axes>"
      ]
     },
     "metadata": {
      "needs_background": "light"
     },
     "output_type": "display_data"
    }
   ],
   "source": [
    "n_data = len(L.FLASH_1SIG_GROUP_COUNT)\n",
    "n_bins=np.sqrt(n_data)\n",
    "n_bins=int(n_bins)\n",
    "n_bins\n",
    "plt.hist(L.FLASH_1SIG_GROUP_COUNT, bins = n_bins)"
   ]
  },
  {
   "cell_type": "code",
   "execution_count": 38,
   "metadata": {},
   "outputs": [
    {
     "data": {
      "text/plain": [
       "(array([2.899179e+07, 7.299000e+03, 7.190000e+02, 1.460000e+02,\n",
       "        3.600000e+01, 6.000000e+00, 2.000000e+00, 1.000000e+00,\n",
       "        1.000000e+00, 1.000000e+00]),\n",
       " array([  0.,  50., 100., 150., 200., 250., 300., 350., 400., 450., 500.]),\n",
       " <BarContainer object of 10 artists>)"
      ]
     },
     "execution_count": 38,
     "metadata": {},
     "output_type": "execute_result"
    },
    {
     "data": {
      "image/png": "[encoded data removed]",
      "text/plain": [
       "<Figure size 432x288 with 1 Axes>"
      ]
     },
     "metadata": {
      "needs_background": "light"
     },
     "output_type": "display_data"
    }
   ],
   "source": [
    "L.FLASH_1SIG_GROUP_COUNT.plot.hist()"
   ]
  },
  {
   "cell_type": "code",
   "execution_count": 39,
   "metadata": {},
   "outputs": [
    {
     "data": {
      "text/plain": [
       "(array([1.2773101e+07, 0.0000000e+00, 0.0000000e+00, ..., 0.0000000e+00,\n",
       "        0.0000000e+00, 1.0000000e+00]),\n",
       " array([0.00000000e+00, 4.17827298e-02, 8.35654596e-02, ...,\n",
       "        2.24916435e+02, 2.24958217e+02, 2.25000000e+02]),\n",
       " <BarContainer object of 5385 artists>)"
      ]
     },
     "execution_count": 39,
     "metadata": {},
     "output_type": "execute_result"
    },
    {
     "data": {
      "image/png": "[encoded data removed]",
      "text/plain": [
       "<Figure size 432x288 with 1 Axes>"
      ]
     },
     "metadata": {
      "needs_background": "light"
     },
     "output_type": "display_data"
    }
   ],
   "source": [
    "n_data = len(L.FLASH_2SIG_GROUP_COUNT)\n",
    "n_bins=np.sqrt(n_data)\n",
    "n_bins=int(n_bins)\n",
    "n_bins\n",
    "plt.hist(L.FLASH_2SIG_GROUP_COUNT, bins = n_bins)"
   ]
  },
  {
   "cell_type": "code",
   "execution_count": 40,
   "metadata": {},
   "outputs": [
    {
     "data": {
      "text/plain": [
       "(array([2.8991069e+07, 7.7490000e+03, 9.4500000e+02, 1.6400000e+02,\n",
       "        5.0000000e+01, 1.6000000e+01, 5.0000000e+00, 2.0000000e+00,\n",
       "        0.0000000e+00, 1.0000000e+00]),\n",
       " array([  0. ,  22.5,  45. ,  67.5,  90. , 112.5, 135. , 157.5, 180. ,\n",
       "        202.5, 225. ]),\n",
       " <BarContainer object of 10 artists>)"
      ]
     },
     "execution_count": 40,
     "metadata": {},
     "output_type": "execute_result"
    },
    {
     "data": {
      "image/png": "[encoded data removed]",
      "text/plain": [
       "<Figure size 432x288 with 1 Axes>"
      ]
     },
     "metadata": {
      "needs_background": "light"
     },
     "output_type": "display_data"
    }
   ],
   "source": [
    "L.FLASH_2SIG_GROUP_COUNT.plot.hist()"
   ]
  },
  {
   "cell_type": "code",
   "execution_count": 41,
   "metadata": {},
   "outputs": [
    {
     "data": {
      "text/plain": [
       "(array([2.0096352e+07, 0.0000000e+00, 0.0000000e+00, ..., 0.0000000e+00,\n",
       "        0.0000000e+00, 1.0000000e+00]),\n",
       " array([0.00000000e+00, 1.74558960e-02, 3.49117920e-02, ...,\n",
       "        9.39650882e+01, 9.39825441e+01, 9.40000000e+01]),\n",
       " <BarContainer object of 5385 artists>)"
      ]
     },
     "execution_count": 41,
     "metadata": {},
     "output_type": "execute_result"
    },
    {
     "data": {
      "image/png": "[encoded data removed]",
      "text/plain": [
       "<Figure size 432x288 with 1 Axes>"
      ]
     },
     "metadata": {
      "needs_background": "light"
     },
     "output_type": "display_data"
    }
   ],
   "source": [
    "n_data = len(L.FLASH_3SIG_GROUP_COUNT)\n",
    "n_bins=np.sqrt(n_data)\n",
    "n_bins=int(n_bins)\n",
    "n_bins\n",
    "plt.hist(L.FLASH_3SIG_GROUP_COUNT, bins = n_bins)"
   ]
  },
  {
   "cell_type": "code",
   "execution_count": 42,
   "metadata": {},
   "outputs": [
    {
     "data": {
      "text/plain": [
       "(array([2.8983828e+07, 1.3395000e+04, 1.9990000e+03, 4.8300000e+02,\n",
       "        1.7200000e+02, 6.9000000e+01, 2.9000000e+01, 1.8000000e+01,\n",
       "        5.0000000e+00, 3.0000000e+00]),\n",
       " array([ 0. ,  9.4, 18.8, 28.2, 37.6, 47. , 56.4, 65.8, 75.2, 84.6, 94. ]),\n",
       " <BarContainer object of 10 artists>)"
      ]
     },
     "execution_count": 42,
     "metadata": {},
     "output_type": "execute_result"
    },
    {
     "data": {
      "image/png": "[encoded data removed]",
      "text/plain": [
       "<Figure size 432x288 with 1 Axes>"
      ]
     },
     "metadata": {
      "needs_background": "light"
     },
     "output_type": "display_data"
    }
   ],
   "source": [
    "L.FLASH_3SIG_GROUP_COUNT.plot.hist()"
   ]
  },
  {
   "cell_type": "code",
   "execution_count": 43,
   "metadata": {},
   "outputs": [
    {
     "data": {
      "text/plain": [
       "(array([4.505871e+06, 0.000000e+00, 0.000000e+00, ..., 0.000000e+00,\n",
       "        0.000000e+00, 1.000000e+00]),\n",
       " array([0.00000000e+00, 3.69545032e-02, 7.39090065e-02, ...,\n",
       "        1.98926091e+02, 1.98963045e+02, 1.99000000e+02]),\n",
       " <BarContainer object of 5385 artists>)"
      ]
     },
     "execution_count": 43,
     "metadata": {},
     "output_type": "execute_result"
    },
    {
     "data": {
      "image/png": "[encoded data removed]",
      "text/plain": [
       "<Figure size 432x288 with 1 Axes>"
      ]
     },
     "metadata": {
      "needs_background": "light"
     },
     "output_type": "display_data"
    }
   ],
   "source": [
    "n_data = len(L.FLASH_1SIG_SERIES_COUNT)\n",
    "n_bins=np.sqrt(n_data)\n",
    "n_bins=int(n_bins)\n",
    "n_bins\n",
    "plt.hist(L.FLASH_1SIG_SERIES_COUNT, bins = n_bins)"
   ]
  },
  {
   "cell_type": "code",
   "execution_count": 44,
   "metadata": {},
   "outputs": [
    {
     "data": {
      "text/plain": [
       "(array([2.8989406e+07, 9.8200000e+03, 5.6100000e+02, 1.3700000e+02,\n",
       "        4.7000000e+01, 1.2000000e+01, 1.1000000e+01, 4.0000000e+00,\n",
       "        2.0000000e+00, 1.0000000e+00]),\n",
       " array([  0. ,  19.9,  39.8,  59.7,  79.6,  99.5, 119.4, 139.3, 159.2,\n",
       "        179.1, 199. ]),\n",
       " <BarContainer object of 10 artists>)"
      ]
     },
     "execution_count": 44,
     "metadata": {},
     "output_type": "execute_result"
    },
    {
     "data": {
      "image/png": "[encoded data removed]",
      "text/plain": [
       "<Figure size 432x288 with 1 Axes>"
      ]
     },
     "metadata": {
      "needs_background": "light"
     },
     "output_type": "display_data"
    }
   ],
   "source": [
    "L.FLASH_1SIG_SERIES_COUNT.plot.hist()"
   ]
  },
  {
   "cell_type": "code",
   "execution_count": 45,
   "metadata": {},
   "outputs": [
    {
     "data": {
      "text/plain": [
       "(array([1.2773106e+07, 0.0000000e+00, 0.0000000e+00, ..., 0.0000000e+00,\n",
       "        0.0000000e+00, 1.0000000e+00]),\n",
       " array([0.00000000e+00, 1.61559889e-02, 3.23119777e-02, ...,\n",
       "        8.69676880e+01, 8.69838440e+01, 8.70000000e+01]),\n",
       " <BarContainer object of 5385 artists>)"
      ]
     },
     "execution_count": 45,
     "metadata": {},
     "output_type": "execute_result"
    },
    {
     "data": {
      "image/png": "[encoded data removed]",
      "text/plain": [
       "<Figure size 432x288 with 1 Axes>"
      ]
     },
     "metadata": {
      "needs_background": "light"
     },
     "output_type": "display_data"
    }
   ],
   "source": [
    "n_data = len(L.FLASH_2SIG_SERIES_COUNT)\n",
    "n_bins=np.sqrt(n_data)\n",
    "n_bins=int(n_bins)\n",
    "n_bins\n",
    "plt.hist(L.FLASH_2SIG_SERIES_COUNT, bins = n_bins)"
   ]
  },
  {
   "cell_type": "code",
   "execution_count": 46,
   "metadata": {},
   "outputs": [
    {
     "data": {
      "text/plain": [
       "(array([2.8973991e+07, 2.4805000e+04, 9.5900000e+02, 1.5500000e+02,\n",
       "        5.2000000e+01, 1.7000000e+01, 1.1000000e+01, 5.0000000e+00,\n",
       "        3.0000000e+00, 3.0000000e+00]),\n",
       " array([ 0. ,  8.7, 17.4, 26.1, 34.8, 43.5, 52.2, 60.9, 69.6, 78.3, 87. ]),\n",
       " <BarContainer object of 10 artists>)"
      ]
     },
     "execution_count": 46,
     "metadata": {},
     "output_type": "execute_result"
    },
    {
     "data": {
      "image/png": "[encoded data removed]",
      "text/plain": [
       "<Figure size 432x288 with 1 Axes>"
      ]
     },
     "metadata": {
      "needs_background": "light"
     },
     "output_type": "display_data"
    }
   ],
   "source": [
    "L.FLASH_2SIG_SERIES_COUNT.plot.hist()"
   ]
  },
  {
   "cell_type": "code",
   "execution_count": 47,
   "metadata": {},
   "outputs": [
    {
     "data": {
      "text/plain": [
       "(array([2.0096358e+07, 0.0000000e+00, 0.0000000e+00, ..., 0.0000000e+00,\n",
       "        0.0000000e+00, 1.0000000e+00]),\n",
       " array([0.00000000e+00, 9.09935005e-03, 1.81987001e-02, ...,\n",
       "        4.89818013e+01, 4.89909006e+01, 4.90000000e+01]),\n",
       " <BarContainer object of 5385 artists>)"
      ]
     },
     "execution_count": 47,
     "metadata": {},
     "output_type": "execute_result"
    },
    {
     "data": {
      "image/png": "[encoded data removed]",
      "text/plain": [
       "<Figure size 432x288 with 1 Axes>"
      ]
     },
     "metadata": {
      "needs_background": "light"
     },
     "output_type": "display_data"
    }
   ],
   "source": [
    "n_data = len(L.FLASH_3SIG_SERIES_COUNT)\n",
    "n_bins=np.sqrt(n_data)\n",
    "n_bins=int(n_bins)\n",
    "n_bins\n",
    "plt.hist(L.FLASH_3SIG_SERIES_COUNT, bins = n_bins)"
   ]
  },
  {
   "cell_type": "code",
   "execution_count": 48,
   "metadata": {},
   "outputs": [
    {
     "data": {
      "text/plain": [
       "(array([2.8954943e+07, 4.3182000e+04, 1.5660000e+03, 2.1300000e+02,\n",
       "        6.5000000e+01, 1.6000000e+01, 9.0000000e+00, 3.0000000e+00,\n",
       "        2.0000000e+00, 2.0000000e+00]),\n",
       " array([ 0. ,  4.9,  9.8, 14.7, 19.6, 24.5, 29.4, 34.3, 39.2, 44.1, 49. ]),\n",
       " <BarContainer object of 10 artists>)"
      ]
     },
     "execution_count": 48,
     "metadata": {},
     "output_type": "execute_result"
    },
    {
     "data": {
      "image/png": "[encoded data removed]",
      "text/plain": [
       "<Figure size 432x288 with 1 Axes>"
      ]
     },
     "metadata": {
      "needs_background": "light"
     },
     "output_type": "display_data"
    }
   ],
   "source": [
    "L.FLASH_3SIG_SERIES_COUNT.plot.hist()"
   ]
  },
  {
   "cell_type": "code",
   "execution_count": 49,
   "metadata": {},
   "outputs": [
    {
     "data": {
      "text/plain": [
       "(array([1., 0., 0., ..., 0., 0., 1.]),\n",
       " array([0.0000000e+00, 2.8479106e-16, 5.6958212e-16, ..., 1.5330303e-12,\n",
       "        1.5333150e-12, 1.5335999e-12], dtype=float32),\n",
       " <BarContainer object of 5385 artists>)"
      ]
     },
     "execution_count": 49,
     "metadata": {},
     "output_type": "execute_result"
    },
    {
     "data": {
      "image/png": "[encoded data removed]",
      "text/plain": [
       "<Figure size 432x288 with 1 Axes>"
      ]
     },
     "metadata": {
      "needs_background": "light"
     },
     "output_type": "display_data"
    }
   ],
   "source": [
    "n_data = len(L.FLASH_EVENT_MAX_ENERGY)\n",
    "n_bins=np.sqrt(n_data)\n",
    "n_bins=int(n_bins)\n",
    "n_bins\n",
    "plt.hist(L.FLASH_EVENT_MAX_ENERGY, bins = n_bins)"
   ]
  },
  {
   "cell_type": "code",
   "execution_count": 50,
   "metadata": {},
   "outputs": [
    {
     "data": {
      "text/plain": [
       "(array([2.8415648e+07, 4.4557500e+05, 1.0096900e+05, 3.1285000e+04,\n",
       "        5.0280000e+03, 1.0330000e+03, 3.2600000e+02, 1.0200000e+02,\n",
       "        2.6000000e+01, 9.0000000e+00]),\n",
       " array([0.0000000e+00, 1.5335999e-13, 3.0671998e-13, 4.6007995e-13,\n",
       "        6.1343996e-13, 7.6679993e-13, 9.2015989e-13, 1.0735199e-12,\n",
       "        1.2268799e-12, 1.3802399e-12, 1.5335999e-12], dtype=float32),\n",
       " <BarContainer object of 10 artists>)"
      ]
     },
     "execution_count": 50,
     "metadata": {},
     "output_type": "execute_result"
    },
    {
     "data": {
      "image/png": "[encoded data removed]",
      "text/plain": [
       "<Figure size 432x288 with 1 Axes>"
      ]
     },
     "metadata": {
      "needs_background": "light"
     },
     "output_type": "display_data"
    }
   ],
   "source": [
    "L.FLASH_EVENT_MAX_ENERGY.plot.hist()"
   ]
  },
  {
   "cell_type": "code",
   "execution_count": 51,
   "metadata": {},
   "outputs": [
    {
     "data": {
      "text/plain": [
       "(array([2.87146e+05, 0.00000e+00, 0.00000e+00, ..., 0.00000e+00,\n",
       "        0.00000e+00, 1.00000e+00]),\n",
       " array([0.0000000e+00, 9.6913976e-17, 1.9382795e-16, ..., 5.2168794e-13,\n",
       "        5.2178482e-13, 5.2188175e-13], dtype=float32),\n",
       " <BarContainer object of 5385 artists>)"
      ]
     },
     "execution_count": 51,
     "metadata": {},
     "output_type": "execute_result"
    },
    {
     "data": {
      "image/png": "[encoded data removed]",
      "text/plain": [
       "<Figure size 432x288 with 1 Axes>"
      ]
     },
     "metadata": {
      "needs_background": "light"
     },
     "output_type": "display_data"
    }
   ],
   "source": [
    "n_data = len(L.FLASH_EVENT_MIN_ENERGY)\n",
    "n_bins=np.sqrt(n_data)\n",
    "n_bins=int(n_bins)\n",
    "n_bins\n",
    "plt.hist(L.FLASH_EVENT_MIN_ENERGY, bins = n_bins)"
   ]
  },
  {
   "cell_type": "code",
   "execution_count": 52,
   "metadata": {},
   "outputs": [
    {
     "data": {
      "text/plain": [
       "(array([2.8999994e+07, 0.0000000e+00, 0.0000000e+00, 1.0000000e+00,\n",
       "        0.0000000e+00, 0.0000000e+00, 1.0000000e+00, 2.0000000e+00,\n",
       "        1.0000000e+00, 2.0000000e+00]),\n",
       " array([0.00000000e+00, 5.21881732e-14, 1.04376346e-13, 1.56564526e-13,\n",
       "        2.08752693e-13, 2.60940873e-13, 3.13129053e-13, 3.65317233e-13,\n",
       "        4.17505386e-13, 4.69693566e-13, 5.21881746e-13], dtype=float32),\n",
       " <BarContainer object of 10 artists>)"
      ]
     },
     "execution_count": 52,
     "metadata": {},
     "output_type": "execute_result"
    },
    {
     "data": {
      "image/png": "[encoded data removed]",
      "text/plain": [
       "<Figure size 432x288 with 1 Axes>"
      ]
     },
     "metadata": {
      "needs_background": "light"
     },
     "output_type": "display_data"
    }
   ],
   "source": [
    "L.FLASH_EVENT_MIN_ENERGY.plot.hist()"
   ]
  },
  {
   "cell_type": "code",
   "execution_count": 53,
   "metadata": {},
   "outputs": [
    {
     "data": {
      "text/plain": [
       "(array([4.021623e+06, 4.472945e+06, 3.335917e+06, ..., 0.000000e+00,\n",
       "        0.000000e+00, 1.000000e+00]),\n",
       " array([1.5259700e-15, 7.4249705e-15, 1.3323971e-14, ..., 3.1755844e-11,\n",
       "        3.1761746e-11, 3.1767644e-11], dtype=float32),\n",
       " <BarContainer object of 5385 artists>)"
      ]
     },
     "execution_count": 53,
     "metadata": {},
     "output_type": "execute_result"
    },
    {
     "data": {
      "image/png": "[encoded data removed]",
      "text/plain": [
       "<Figure size 432x288 with 1 Axes>"
      ]
     },
     "metadata": {
      "needs_background": "light"
     },
     "output_type": "display_data"
    }
   ],
   "source": [
    "n_data = len(L.FLASH_GROUP_MAX_ENERGY)\n",
    "n_bins=np.sqrt(n_data)\n",
    "n_bins=int(n_bins)\n",
    "n_bins\n",
    "plt.hist(L.FLASH_GROUP_MAX_ENERGY, bins = n_bins)"
   ]
  },
  {
   "cell_type": "code",
   "execution_count": 54,
   "metadata": {},
   "outputs": [
    {
     "data": {
      "text/plain": [
       "(array([2.899562e+07, 4.080000e+03, 2.470000e+02, 4.300000e+01,\n",
       "        7.000000e+00, 2.000000e+00, 0.000000e+00, 0.000000e+00,\n",
       "        1.000000e+00, 1.000000e+00]),\n",
       " array([1.52596998e-15, 3.17813787e-12, 6.35474963e-12, 9.53136181e-12,\n",
       "        1.27079736e-11, 1.58845853e-11, 1.90611971e-11, 2.22378088e-11,\n",
       "        2.54144206e-11, 2.85910323e-11, 3.17676441e-11], dtype=float32),\n",
       " <BarContainer object of 10 artists>)"
      ]
     },
     "execution_count": 54,
     "metadata": {},
     "output_type": "execute_result"
    },
    {
     "data": {
      "image/png": "[encoded data removed]",
      "text/plain": [
       "<Figure size 432x288 with 1 Axes>"
      ]
     },
     "metadata": {
      "needs_background": "light"
     },
     "output_type": "display_data"
    }
   ],
   "source": [
    "L.FLASH_GROUP_MAX_ENERGY.plot.hist()"
   ]
  },
  {
   "cell_type": "code",
   "execution_count": 55,
   "metadata": {},
   "outputs": [
    {
     "data": {
      "text/plain": [
       "(array([4.616450e+05, 1.097610e+06, 2.900979e+06, ..., 0.000000e+00,\n",
       "        0.000000e+00, 1.000000e+00]),\n",
       " array([2.5432834e-16, 1.5519932e-15, 2.8496581e-15, ..., 6.9855844e-12,\n",
       "        6.9868820e-12, 6.9881796e-12], dtype=float32),\n",
       " <BarContainer object of 5385 artists>)"
      ]
     },
     "execution_count": 55,
     "metadata": {},
     "output_type": "execute_result"
    },
    {
     "data": {
      "image/png": "[encoded data removed]",
      "text/plain": [
       "<Figure size 432x288 with 1 Axes>"
      ]
     },
     "metadata": {
      "needs_background": "light"
     },
     "output_type": "display_data"
    }
   ],
   "source": [
    "n_data = len(L.FLASH_GROUP_MEAN_ENERGY)\n",
    "n_bins=np.sqrt(n_data)\n",
    "n_bins=int(n_bins)\n",
    "n_bins\n",
    "plt.hist(L.FLASH_GROUP_MEAN_ENERGY, bins = n_bins)"
   ]
  },
  {
   "cell_type": "code",
   "execution_count": 56,
   "metadata": {},
   "outputs": [
    {
     "data": {
      "text/plain": [
       "(array([2.8999261e+07, 4.2300000e+02, 1.7400000e+02, 7.0000000e+01,\n",
       "        3.7000000e+01, 1.6000000e+01, 1.1000000e+01, 4.0000000e+00,\n",
       "        4.0000000e+00, 1.0000000e+00]),\n",
       " array([2.5432834e-16, 6.9904683e-13, 1.3978394e-12, 2.0966319e-12,\n",
       "        2.7954245e-12, 3.4942169e-12, 4.1930097e-12, 4.8918018e-12,\n",
       "        5.5905944e-12, 6.2893870e-12, 6.9881796e-12], dtype=float32),\n",
       " <BarContainer object of 10 artists>)"
      ]
     },
     "execution_count": 56,
     "metadata": {},
     "output_type": "execute_result"
    },
    {
     "data": {
      "image/png": "[encoded data removed]",
      "text/plain": [
       "<Figure size 432x288 with 1 Axes>"
      ]
     },
     "metadata": {
      "needs_background": "light"
     },
     "output_type": "display_data"
    }
   ],
   "source": [
    "L.FLASH_GROUP_MEAN_ENERGY.plot.hist()"
   ]
  },
  {
   "cell_type": "code",
   "execution_count": 57,
   "metadata": {},
   "outputs": [
    {
     "data": {
      "text/plain": [
       "(array([1.2872800e+05, 1.9913476e+07, 0.0000000e+00, ..., 0.0000000e+00,\n",
       "        0.0000000e+00, 1.0000000e+00]),\n",
       " array([0.0000000e+00, 9.2776705e-16, 1.8555341e-15, ..., 4.9941700e-12,\n",
       "        4.9950981e-12, 4.9960257e-12], dtype=float32),\n",
       " <BarContainer object of 5385 artists>)"
      ]
     },
     "execution_count": 57,
     "metadata": {},
     "output_type": "execute_result"
    },
    {
     "data": {
      "image/png": "[encoded data removed]",
      "text/plain": [
       "<Figure size 432x288 with 1 Axes>"
      ]
     },
     "metadata": {
      "needs_background": "light"
     },
     "output_type": "display_data"
    }
   ],
   "source": [
    "n_data = len(L.FLASH_GROUP_MIN_ENERGY)\n",
    "n_bins=np.sqrt(n_data)\n",
    "n_bins=int(n_bins)\n",
    "n_bins\n",
    "plt.hist(L.FLASH_GROUP_MIN_ENERGY, bins = n_bins)"
   ]
  },
  {
   "cell_type": "code",
   "execution_count": 58,
   "metadata": {},
   "outputs": [
    {
     "data": {
      "text/plain": [
       "(array([2.8999974e+07, 1.2000000e+01, 8.0000000e+00, 1.0000000e+00,\n",
       "        1.0000000e+00, 2.0000000e+00, 2.0000000e+00, 0.0000000e+00,\n",
       "        0.0000000e+00, 1.0000000e+00]),\n",
       " array([0.0000000e+00, 4.9960258e-13, 9.9920517e-13, 1.4988077e-12,\n",
       "        1.9984103e-12, 2.4980129e-12, 2.9976154e-12, 3.4972179e-12,\n",
       "        3.9968207e-12, 4.4964232e-12, 4.9960257e-12], dtype=float32),\n",
       " <BarContainer object of 10 artists>)"
      ]
     },
     "execution_count": 58,
     "metadata": {},
     "output_type": "execute_result"
    },
    {
     "data": {
      "image/png": "[encoded data removed]",
      "text/plain": [
       "<Figure size 432x288 with 1 Axes>"
      ]
     },
     "metadata": {
      "needs_background": "light"
     },
     "output_type": "display_data"
    }
   ],
   "source": [
    "L.FLASH_GROUP_MIN_ENERGY.plot.hist()"
   ]
  },
  {
   "cell_type": "markdown",
   "metadata": {},
   "source": [
    "Summary: Some histograms like latitude and longitude have interesting peaks.  There might be regions where there are more naturally ocurring lightening.  For the time attribute there also might be re-occuring times of day like at night where there is more ligtening. "
   ]
  }
 ],
 "metadata": {
  "kernelspec": {
   "display_name": "Python 3",
   "language": "python",
   "name": "python3"
  },
  "language_info": {
   "codemirror_mode": {
    "name": "ipython",
    "version": 3
   },
   "file_extension": ".py",
   "mimetype": "text/x-python",
   "name": "python",
   "nbconvert_exporter": "python",
   "pygments_lexer": "ipython3",
   "version": "3.8.5"
  },
  "toc": {
   "base_numbering": 1,
   "nav_menu": {},
   "number_sections": true,
   "sideBar": true,
   "skip_h1_title": false,
   "title_cell": "Table of Contents",
   "title_sidebar": "Contents",
   "toc_cell": false,
   "toc_position": {},
   "toc_section_display": true,
   "toc_window_display": true
  },
  "varInspector": {
   "cols": {
    "lenName": 16,
    "lenType": 16,
    "lenVar": 40
   },
   "kernels_config": {
    "python": {
     "delete_cmd_postfix": "",
     "delete_cmd_prefix": "del ",
     "library": "var_list.py",
     "varRefreshCmd": "print(var_dic_list())"
    },
    "r": {
     "delete_cmd_postfix": ") ",
     "delete_cmd_prefix": "rm(",
     "library": "var_list.r",
     "varRefreshCmd": "cat(var_dic_list()) "
    }
   },
   "types_to_exclude": [
    "module",
    "function",
    "builtin_function_or_method",
    "instance",
    "_Feature"
   ],
   "window_display": false
  }
 },
 "nbformat": 4,
 "nbformat_minor": 4
}
